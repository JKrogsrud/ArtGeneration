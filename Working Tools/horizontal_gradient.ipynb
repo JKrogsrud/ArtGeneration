{
 "cells": [
  {
   "cell_type": "code",
   "execution_count": 1,
   "metadata": {},
   "outputs": [],
   "source": [
    "import numpy as np\n",
    "import PIL\n",
    "import random\n",
    "from PIL import Image\n",
    "from PIL import ImageDraw\n",
    "import pandas as pd"
   ]
  },
  {
   "cell_type": "code",
   "execution_count": 2,
   "metadata": {},
   "outputs": [],
   "source": [
    "def generate_gradient(colour1, colour2, width: int, height: int):\n",
    "    ###Generate a vertical gradient\n",
    "    ## Create a base image of color 1\n",
    "    base = Image.new('RGB', (width, height), colour1)\n",
    "    ## Create a top image of color 2\n",
    "    top = Image.new('RGB', (width, height), colour2)\n",
    "    ## Initiate a mask, and initiate a list that will contain it's data\n",
    "    mask = Image.new('L', (width, height))\n",
    "    mask_data = []\n",
    "    for y in range(height):\n",
    "        for x in range(width):\n",
    "            mask_data.append(int(255 * (x / width)))\n",
    "    # mask_data is now a list of integers from 0 to 255 of length height x width so we can put it as thr data for mask\n",
    "    mask.putdata(mask_data)\n",
    "    #paste the top on the base but use mask as transparency\n",
    "    base.paste(top, (0, 0), mask)\n",
    "    return base"
   ]
  },
  {
   "cell_type": "code",
   "execution_count": 3,
   "metadata": {},
   "outputs": [
    {
     "data": {
      "image/png": "[encoded data removed]",
      "text/plain": [
       "<PIL.Image.Image image mode=RGB size=200x100 at 0x2561B97C190>"
      ]
     },
     "execution_count": 3,
     "metadata": {},
     "output_type": "execute_result"
    }
   ],
   "source": [
    "##Example\n",
    "generate_gradient((255,0,0), (0,255,0), width = 200, height = 100)"
   ]
  }
 ],
 "metadata": {
  "kernelspec": {
   "display_name": "Python 3",
   "language": "python",
   "name": "python3"
  },
  "language_info": {
   "codemirror_mode": {
    "name": "ipython",
    "version": 3
   },
   "file_extension": ".py",
   "mimetype": "text/x-python",
   "name": "python",
   "nbconvert_exporter": "python",
   "pygments_lexer": "ipython3",
   "version": "3.8.3"
  }
 },
 "nbformat": 4,
 "nbformat_minor": 4
}
