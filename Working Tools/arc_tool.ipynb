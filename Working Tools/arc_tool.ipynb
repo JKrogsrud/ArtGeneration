{
 "cells": [
  {
   "cell_type": "code",
   "execution_count": 1,
   "metadata": {},
   "outputs": [],
   "source": [
    "import numpy as np\n",
    "import PIL\n",
    "import random\n",
    "from PIL import Image\n",
    "from PIL import ImageDraw\n",
    "import pandas as pd"
   ]
  },
  {
   "cell_type": "code",
   "execution_count": 2,
   "metadata": {},
   "outputs": [],
   "source": [
    "def two_point_arc(width, height, fill, line_width):\n",
    "    image = Image.new(\"RGBA\", (int(width),int(height)))\n",
    "    draw = PIL.ImageDraw.Draw(image,None)\n",
    "    draw.arc([(0,0),(int(width)-1,2*int(height))], 180, 360, fill, line_width)\n",
    "    return image"
   ]
  },
  {
   "cell_type": "code",
   "execution_count": 3,
   "metadata": {},
   "outputs": [],
   "source": [
    "# Make an arc in an image, between the points pt_1 (x1,y1) and pt_2 (x2,y2)\n",
    "# with given height, color, and line width\n",
    "# Will place the arc \"above\" starting at pt_1 to pt_2\n",
    "def upper_arc(image, pt_1, pt_2, height, color, line_width):\n",
    "    \n",
    "    if (pt_1[0] < pt_2[0]) and (pt_1[1] >= pt_2[1]):\n",
    "        width = np.sqrt( (pt_1[0] - pt_2[0])**2 + (pt_1[1] - pt_2[1])**2)\n",
    "        height = int(height)\n",
    "        arc = two_point_arc(int(width), height, color, line_width)\n",
    "        y_dist = np.abs(pt_1[1]-pt_2[1])\n",
    "        x_dist = np.abs(pt_1[0]-pt_2[0])\n",
    "        angle = np.arctan(y_dist/x_dist)*(180/np.pi)\n",
    "        arc = arc.rotate(angle, resample = PIL.Image.BICUBIC, expand = True)\n",
    "        paste_point = (pt_1[0]-arc.size[0]+x_dist, pt_1[1]-arc.size[1])\n",
    "        image.paste(arc,paste_point, arc)\n",
    "        \n",
    "    if (pt_1[0] < pt_2[0]) and (pt_1[1] < pt_2[1]):\n",
    "        width = np.sqrt( (pt_1[0] - pt_2[0])**2 + (pt_1[1] - pt_2[1])**2)\n",
    "        height = int(height)\n",
    "        arc = two_point_arc(int(width), height, color, line_width)\n",
    "        y_dist = np.abs(pt_1[1]-pt_2[1])\n",
    "        x_dist = np.abs(pt_1[0]-pt_2[0])\n",
    "        angle = np.arctan(y_dist/x_dist)*(180/np.pi)\n",
    "        arc = arc.rotate(-angle, resample = PIL.Image.BICUBIC, expand = True)\n",
    "        paste_point = (pt_1[0], pt_1[1]+y_dist-arc.size[1])\n",
    "        image.paste(arc, paste_point, arc)\n",
    "        \n",
    "    if (pt_1[0] > pt_2[0]) and (pt_1[1] <= pt_2[1]):\n",
    "        width = np.sqrt( (pt_1[0] - pt_2[0])**2 + (pt_1[1] - pt_2[1])**2)\n",
    "        height = int(height)\n",
    "        arc = two_point_arc(int(width), height, color, line_width)\n",
    "        y_dist = np.abs(pt_1[1]-pt_2[1])\n",
    "        x_dist = np.abs(pt_1[0]-pt_2[0])\n",
    "        angle = np.arctan(y_dist/x_dist)*(180/np.pi)\n",
    "        arc = arc.rotate(180+angle, resample = PIL.Image.BICUBIC, expand = True)\n",
    "        paste_point = (pt_1[0]- x_dist, pt_1[1])\n",
    "        image.paste(arc, paste_point, arc)\n",
    "        \n",
    "    if (pt_1[0] > pt_2[0]) and (pt_1[1] > pt_2[1]):\n",
    "        width = np.sqrt( (pt_1[0] - pt_2[0])**2 + (pt_1[1] - pt_2[1])**2)\n",
    "        height = int(height)\n",
    "        arc = two_point_arc(int(width), height, color, line_width)\n",
    "        y_dist = np.abs(pt_1[1]-pt_2[1])\n",
    "        x_dist = np.abs(pt_1[0]-pt_2[0])\n",
    "        angle = np.arctan(y_dist/x_dist)*(180/np.pi)\n",
    "        arc = arc.rotate(180-angle, resample = PIL.Image.BICUBIC, expand = True)\n",
    "        paste_point = (pt_1[0]- arc.size[0], pt_1[1]-y_dist)\n",
    "        image.paste(arc, paste_point, arc)\n",
    "        \n",
    "    if (pt_1[0] == pt_2[0]) and (pt_1[1] < pt_2[1]):\n",
    "        width = pt_2[1] - pt_1[1]\n",
    "        height = int(height)\n",
    "        arc = two_point_arc(int(width), height, color, line_width)\n",
    "        angle = -90\n",
    "        arc = arc.rotate(angle, resample = PIL.Image.BICUBIC, expand = True)\n",
    "        paste_point = pt_1\n",
    "        image.paste(arc, paste_point, arc)\n",
    "        \n",
    "    if (pt_1[0] == pt_2[0]) and (pt_1[1] > pt_2[1]):\n",
    "        width = pt_1[1] - pt_2[1]\n",
    "        height = int(height)\n",
    "        arc = two_point_arc(int(width), height, color, line_width)\n",
    "        angle = 90\n",
    "        arc = arc.rotate(angle, resample = PIL.Image.BICUBIC, expand = True)\n",
    "        paste_point = (pt_1[0]-arc.size[0], pt_2[1])\n",
    "        image.paste(arc, paste_point, arc)\n",
    "        \n",
    "    return image"
   ]
  }
 ],
 "metadata": {
  "kernelspec": {
   "display_name": "Python 3",
   "language": "python",
   "name": "python3"
  },
  "language_info": {
   "codemirror_mode": {
    "name": "ipython",
    "version": 3
   },
   "file_extension": ".py",
   "mimetype": "text/x-python",
   "name": "python",
   "nbconvert_exporter": "python",
   "pygments_lexer": "ipython3",
   "version": "3.8.3"
  }
 },
 "nbformat": 4,
 "nbformat_minor": 4
}
