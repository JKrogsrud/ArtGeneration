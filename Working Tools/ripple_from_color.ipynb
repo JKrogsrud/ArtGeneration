{
 "cells": [
  {
   "cell_type": "code",
   "execution_count": 2,
   "metadata": {},
   "outputs": [],
   "source": [
    "import numpy as np\n",
    "import PIL\n",
    "import random\n",
    "from PIL import Image\n",
    "from PIL import ImageDraw\n",
    "import pandas as pd\n",
    "import copy"
   ]
  },
  {
   "cell_type": "code",
   "execution_count": 1,
   "metadata": {},
   "outputs": [],
   "source": [
    "def ripple_from_color(image, color, distance, width):\n",
    "    color_1 = (255,255,255,255)\n",
    "    color_2=(0,0,0,0)\n",
    "    circles_1 = Image.new(\"RGBA\", (image.size[0], image.size[1]), (0,0,0,0))\n",
    "    \n",
    "    draw_circles_1 = ImageDraw.Draw(circles_1, \"RGBA\")\n",
    "    \n",
    "    data = np.asarray(image)\n",
    "    array = np.array([ [(j == [color[0],color[1], color[2]]).all() for j in i] for i in data])\n",
    "    \n",
    "    for y in range(len(array)):\n",
    "        for x in range(len(array[0])):\n",
    "            if array[y][x] == True:\n",
    "                draw_circles_1.ellipse((x-distance, y-distance, x+distance, y+distance), fill=color_1)\n",
    "    for y in range(len(array)):\n",
    "        for x in range(len(array[0])):\n",
    "            if array[y][x] == True:\n",
    "                draw_circles_1.ellipse((x-distance+width, y-distance+width, x+distance-width, y+distance-width), fill=color_2)\n",
    "    ripple_color = Image.new(\"RGB\", (image.size[0], image.size[1]), color)\n",
    "    image.paste(ripple_color, (0,0), circles_1)\n",
    "    return image"
   ]
  }
 ],
 "metadata": {
  "kernelspec": {
   "display_name": "Python 3",
   "language": "python",
   "name": "python3"
  },
  "language_info": {
   "codemirror_mode": {
    "name": "ipython",
    "version": 3
   },
   "file_extension": ".py",
   "mimetype": "text/x-python",
   "name": "python",
   "nbconvert_exporter": "python",
   "pygments_lexer": "ipython3",
   "version": "3.8.3"
  }
 },
 "nbformat": 4,
 "nbformat_minor": 4
}
