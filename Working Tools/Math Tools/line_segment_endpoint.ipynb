{
 "cells": [
  {
   "cell_type": "code",
   "execution_count": 1,
   "metadata": {},
   "outputs": [],
   "source": [
    "import numpy as np"
   ]
  },
  {
   "cell_type": "code",
   "execution_count": 1,
   "metadata": {},
   "outputs": [],
   "source": [
    "## Find the endpoint of a line segment with given start coordinate (x,y), angle (in radians) and distance\n",
    "### returns endpoint with x and y values rounded to (closest?) integer, optional argument if angle given in degrees\n",
    "def line_segment_endpoint(coord, angle, dist, degrees = False):\n",
    "    if degrees == True:\n",
    "        angle = angle * np.pi/180\n",
    "        return (int(dist*np.cos(angle) + coord[0]), int(dist*np.sin(angle) + coord[1]))\n",
    "    else:\n",
    "        return (int(dist*np.cos(angle) + coord[0]), int(dist*np.sin(angle) + coord[1]))"
   ]
  }
 ],
 "metadata": {
  "kernelspec": {
   "display_name": "Python 3",
   "language": "python",
   "name": "python3"
  },
  "language_info": {
   "codemirror_mode": {
    "name": "ipython",
    "version": 3
   },
   "file_extension": ".py",
   "mimetype": "text/x-python",
   "name": "python",
   "nbconvert_exporter": "python",
   "pygments_lexer": "ipython3",
   "version": "3.8.3"
  }
 },
 "nbformat": 4,
 "nbformat_minor": 4
}
