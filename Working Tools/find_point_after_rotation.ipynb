{
 "cells": [
  {
   "cell_type": "code",
   "execution_count": 1,
   "metadata": {},
   "outputs": [],
   "source": [
    "import numpy as np\n",
    "import PIL\n",
    "import random\n",
    "from PIL import Image\n",
    "from PIL import ImageDraw\n",
    "import pandas as pd"
   ]
  },
  {
   "cell_type": "code",
   "execution_count": 6,
   "metadata": {},
   "outputs": [],
   "source": [
    "# image must be of object type PIL.Image, coordinate must be an ordered (x,y) tuple, rotation given in degrees\n",
    "# returns the location of the new point\n",
    "def location_of_new_point(image, coordinate, rotation):\n",
    "    x = coordinate[0]\n",
    "    y = coordinate[1]\n",
    "    rotated_image = image.rotate(rotation, resample = PIL.Image.NEAREST, expand = True)\n",
    "    \n",
    "    if rotation <= 90:\n",
    "        theta = rotation*(np.pi/180)\n",
    "        x_new = int( y*np.sin(theta) + x*np.cos(theta) )\n",
    "        y_new = int( image.width *np.sin(theta) + y*np.cos(theta) - x* np.sin(theta) )\n",
    "        location = (x_new, y_new)\n",
    "        return location\n",
    "    \n",
    "    if (rotation >90) and (rotation<=180):\n",
    "        rotation = rotation - 90\n",
    "        theta = rotation*(np.pi/180)\n",
    "        x_new = int( image.width*np.sin(theta) + y*np.cos(theta) - x*np.sin(theta) )\n",
    "        y_new = int( rotated_image.height - y*np.sin(theta) - x*np.cos(theta) )\n",
    "        location = (x_new, y_new)\n",
    "        return location\n",
    "    \n",
    "    if (rotation > 180) and (rotation <=270):\n",
    "        rotation = rotation - 180\n",
    "        theta = rotation*(np.pi/180)\n",
    "        x_new = int((image.height-y)*np.sin(theta) + (image.width - x)* np.cos(theta))\n",
    "        y_new = int(image.width * np.sin(theta) + (image.height - y)*np.cos(theta) - (image.width - x)* np.sin(theta))\n",
    "        location = (x_new, y_new)\n",
    "        return location\n",
    "        \n",
    "    if (rotation > 270) and (rotation <=360):\n",
    "        rotation = rotation - 270\n",
    "        theta = rotation*(np.pi/180)\n",
    "        x_new = int( image.height * np.cos(theta) - y * np.cos(theta) + x * np.sin(theta) )\n",
    "        y_new = int(y * np.sin(theta) + x * np.cos(theta))\n",
    "        location = (x_new, y_new)\n",
    "        return location"
   ]
  }
 ],
 "metadata": {
  "kernelspec": {
   "display_name": "Python 3",
   "language": "python",
   "name": "python3"
  },
  "language_info": {
   "codemirror_mode": {
    "name": "ipython",
    "version": 3
   },
   "file_extension": ".py",
   "mimetype": "text/x-python",
   "name": "python",
   "nbconvert_exporter": "python",
   "pygments_lexer": "ipython3",
   "version": "3.8.3"
  }
 },
 "nbformat": 4,
 "nbformat_minor": 4
}
