{
 "cells": [
  {
   "cell_type": "code",
   "execution_count": 1,
   "metadata": {},
   "outputs": [],
   "source": [
    "import cv2 as cv\n",
    "import numpy as np\n",
    "import matplotlib.pyplot as plt\n",
    "import PIL\n",
    "from sklearn.cluster import KMeans\n",
    "%matplotlib inline"
   ]
  },
  {
   "cell_type": "code",
   "execution_count": 10,
   "metadata": {},
   "outputs": [],
   "source": [
    "## using K-means Clustering, pull a palette of size N of the most prominent colors of an image.\n",
    "## outputs the palette for use in other projects\n",
    "## converts the palette to a list of colors of form (R,G,B)\n",
    "def strip_palette(image, size):\n",
    "    #Open the image using openCV and convert to RGB\n",
    "    img = cv.imread(image)\n",
    "    img = cv.cvtColor(img, cv.COLOR_BGR2RGB)\n",
    "    \n",
    "    #Little hazy at this point forward but create clusters on my image reshaped to be a vector whose entries are RBG colors\n",
    "    clt = KMeans(n_clusters = size)\n",
    "    clt.fit(img.reshape(-1,3))\n",
    "    palette = []\n",
    "    for color in clt.cluster_centers_:\n",
    "        R, G, B = int(color[0]), int(color[1]), int(color[2])\n",
    "        palette.append((R,G,B))\n",
    "    return palette"
   ]
  },
  {
   "cell_type": "code",
   "execution_count": 11,
   "metadata": {},
   "outputs": [
    {
     "data": {
      "text/plain": [
       "[(176, 138, 121), (224, 200, 166), (61, 47, 49), (112, 86, 84)]"
      ]
     },
     "execution_count": 11,
     "metadata": {},
     "output_type": "execute_result"
    }
   ],
   "source": [
    "palette = strip_palette(\"jess.jpg\", 4)\n",
    "palette"
   ]
  },
  {
   "cell_type": "code",
   "execution_count": 8,
   "metadata": {},
   "outputs": [
    {
     "name": "stdout",
     "output_type": "stream",
     "text": [
      "[224.07202908 200.36553041 167.00172825]\n",
      "[61.73916101 47.94286069 49.39858961]\n",
      "[177.41522242 138.63310336 121.36914694]\n",
      "[113.04686816  86.75597893  84.65598428]\n"
     ]
    }
   ],
   "source": [
    "for n in palette:\n",
    "    print(n)"
   ]
  },
  {
   "cell_type": "code",
   "execution_count": null,
   "metadata": {},
   "outputs": [],
   "source": []
  }
 ],
 "metadata": {
  "kernelspec": {
   "display_name": "Python 3",
   "language": "python",
   "name": "python3"
  },
  "language_info": {
   "codemirror_mode": {
    "name": "ipython",
    "version": 3
   },
   "file_extension": ".py",
   "mimetype": "text/x-python",
   "name": "python",
   "nbconvert_exporter": "python",
   "pygments_lexer": "ipython3",
   "version": "3.8.3"
  }
 },
 "nbformat": 4,
 "nbformat_minor": 4
}
