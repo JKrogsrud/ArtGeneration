{
 "cells": [
  {
   "cell_type": "code",
   "execution_count": 1,
   "metadata": {},
   "outputs": [],
   "source": [
    "import numpy as np\n",
    "import PIL\n",
    "import random\n",
    "from PIL import Image\n",
    "from PIL import ImageDraw"
   ]
  },
  {
   "cell_type": "code",
   "execution_count": 2,
   "metadata": {},
   "outputs": [],
   "source": [
    "def createPalette(number):\n",
    "    palette = []\n",
    "    number = int(number)\n",
    "    for i in range(number):\n",
    "        R = random.randint(0,255)\n",
    "        G = random.randint(0,255)\n",
    "        B = random.randint(0,255)\n",
    "        palette.append((R,G,B))\n",
    "    return(palette)"
   ]
  },
  {
   "cell_type": "code",
   "execution_count": 3,
   "metadata": {},
   "outputs": [],
   "source": [
    "def gen_sprite(size, colors):\n",
    "    size = int(size)\n",
    "    im = Image.new(\"RGB\", (size,size))\n",
    "    draw = PIL.ImageDraw.Draw(im,None)\n",
    "    colors = int(colors)\n",
    "    palette = createPalette(colors)\n",
    "    if size % 2 == 0:\n",
    "        for i in range(size):\n",
    "            num_to_color = int(np.random.normal(size/4,size/12))\n",
    "            x_coords = random.sample(range(int(size/2)), num_to_color)\n",
    "            for j in x_coords:\n",
    "                color = palette[random.randint(0,int(colors)-1)]\n",
    "                draw.point((j,i),color)\n",
    "        crop = im.crop((0,0,int(size/2),size))\n",
    "        crop = crop.transpose(PIL.Image.FLIP_LEFT_RIGHT)\n",
    "        im.paste(crop, (int(size/2),0,size,size))\n",
    "\n",
    "    if size % 2 == 1:\n",
    "        for i in range(size):\n",
    "            num_to_color = int(np.random.normal(size/4,size/12))\n",
    "            x_coords = random.sample(range(int((size+1)/2)), num_to_color)\n",
    "            for j in x_coords:\n",
    "                color = palette[random.randint(0,int(colors)-1)]\n",
    "                draw.point((j,i),color)\n",
    "        crop = im.crop((0,0,int(size/2),size))\n",
    "        crop = crop.transpose(PIL.Image.FLIP_LEFT_RIGHT)\n",
    "        im.paste(crop, (int((size+1)/2),0,size,size))\n",
    "        \n",
    "        num_to_color = random.randint(0, int(size))\n",
    "        y_coords = random.sample(range(size), num_to_color)\n",
    "\n",
    "        for k in y_coords:\n",
    "            color = palette[random.randint(0,int(colors)-1)]\n",
    "            draw.point( (int(size/2), k) , color )\n",
    "    \n",
    "    return im"
   ]
  },
  {
   "cell_type": "code",
   "execution_count": 44,
   "metadata": {},
   "outputs": [
    {
     "data": {
      "image/png": "[encoded data removed]",
      "text/plain": [
       "<PIL.Image.Image image mode=RGB size=400x400 at 0x152AD812280>"
      ]
     },
     "execution_count": 44,
     "metadata": {},
     "output_type": "execute_result"
    }
   ],
   "source": [
    "sprite = gen_sprite(11,4)\n",
    "sprite = sprite.resize((400,400),PIL.Image.NEAREST)\n",
    "sprite"
   ]
  },
  {
   "cell_type": "code",
   "execution_count": 46,
   "metadata": {},
   "outputs": [],
   "source": [
    "sprite.save(\"normal_iguana_17_3.png\")"
   ]
  }
 ],
 "metadata": {
  "kernelspec": {
   "display_name": "Python 3",
   "language": "python",
   "name": "python3"
  },
  "language_info": {
   "codemirror_mode": {
    "name": "ipython",
    "version": 3
   },
   "file_extension": ".py",
   "mimetype": "text/x-python",
   "name": "python",
   "nbconvert_exporter": "python",
   "pygments_lexer": "ipython3",
   "version": "3.8.3"
  }
 },
 "nbformat": 4,
 "nbformat_minor": 4
}
