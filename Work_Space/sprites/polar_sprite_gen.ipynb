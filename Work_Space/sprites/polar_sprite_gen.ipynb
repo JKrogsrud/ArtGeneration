{
 "cells": [
  {
   "cell_type": "code",
   "execution_count": 1,
   "metadata": {},
   "outputs": [],
   "source": [
    "import numpy as np\n",
    "import PIL\n",
    "import random\n",
    "from PIL import Image\n",
    "from PIL import ImageDraw"
   ]
  },
  {
   "cell_type": "code",
   "execution_count": 2,
   "metadata": {},
   "outputs": [],
   "source": [
    "def createPalette(number):\n",
    "    palette = []\n",
    "    number = int(number)\n",
    "    for i in range(number):\n",
    "        R = random.randint(0,255)\n",
    "        G = random.randint(0,255)\n",
    "        B = random.randint(0,255)\n",
    "        palette.append((R,G,B))\n",
    "    return(palette)"
   ]
  },
  {
   "cell_type": "code",
   "execution_count": 3,
   "metadata": {},
   "outputs": [],
   "source": [
    "def polar_sprite(size,colors):\n",
    "    size = int(size)\n",
    "    im = Image.new(\"RGB\", (size,size))\n",
    "    draw = PIL.ImageDraw.Draw(im,None)\n",
    "    colors = int(colors)\n",
    "    palette = createPalette(colors)\n",
    "    center = (size/2,size/2)\n",
    "    for i in range(int(size/2)):\n",
    "        num_to_color = random.randint(0,int(size/2))\n",
    "        D = np.sqrt(((center[0]-i)**2)+(center[1]**2))\n",
    "        radius_list = np.random.uniform(0, D, num_to_color)\n",
    "        theta = np.arctan(((size/2)-i)/(size/2))\n",
    "        for r in radius_list:\n",
    "            x_coord = int((size/2) - r*np.sin(theta))\n",
    "            y_coord = int((size/2) - r*np.cos(theta))\n",
    "            color = palette[random.randint(0,int(colors)-1)]\n",
    "            draw.point((x_coord,y_coord),color)\n",
    "            \n",
    "    for i in range(int(size/2)):\n",
    "        num_to_color = random.randint(0,int(size/2))\n",
    "        D = np.sqrt(((center[0]-i)**2)+(center[1]**2))\n",
    "        radius_list = np.random.uniform(0, D, num_to_color)\n",
    "        theta = np.arctan(((size/2)-i)/(size/2))\n",
    "        for r in radius_list:\n",
    "            x_coord = int((size/2) - r*np.cos(theta))\n",
    "            y_coord = int((size/2) - r*np.sin(theta))\n",
    "            color = palette[random.randint(0,int(colors)-1)]\n",
    "            draw.point((x_coord,y_coord),color)\n",
    "            \n",
    "    for i in range(int(size/2)):\n",
    "        num_to_color = random.randint(0,int(size/2))\n",
    "        D = np.sqrt(((center[0]-i)**2)+(center[1]**2))\n",
    "        radius_list = np.random.uniform(0, D, num_to_color)\n",
    "        theta = np.arctan(((size/2)-i)/(size/2))\n",
    "        for r in radius_list:\n",
    "            x_coord = int((size/2) - r*np.cos(theta))\n",
    "            y_coord = int((size/2) + r*np.sin(theta))\n",
    "            color = palette[random.randint(0,int(colors)-1)]\n",
    "            draw.point((x_coord,y_coord),color)\n",
    "            \n",
    "    for i in range(int(size/2)):\n",
    "        num_to_color = random.randint(0,int(size/2))\n",
    "        D = np.sqrt(((center[0]-i)**2)+(center[1]**2))\n",
    "        radius_list = np.random.uniform(0, D, num_to_color)\n",
    "        theta = np.arctan(((size/2)-i)/(size/2))\n",
    "        for r in radius_list:\n",
    "            x_coord = int((size/2) - r*np.sin(theta))\n",
    "            y_coord = int((size/2) + r*np.cos(theta))\n",
    "            color = palette[random.randint(0,int(colors)-1)]\n",
    "            draw.point((x_coord,y_coord),color)\n",
    "    \n",
    "    #Add some depth to the empty lines on the odd creatures\n",
    "    if size%2 == 1:\n",
    "        to_fill = int(size/3)\n",
    "        num_to_color = random.randint(0,to_fill)\n",
    "        x_values = np.random.uniform(0, int(size/3), num_to_color)\n",
    "        for x in x_values:\n",
    "            color = palette[random.randint(0,int(colors)-1)]\n",
    "            draw.point((x,int(size/2)),color)\n",
    "            \n",
    "    if size % 2 == 0:\n",
    "        crop = im.crop((0,0,int(size/2),size))\n",
    "        crop = crop.transpose(PIL.Image.FLIP_LEFT_RIGHT)\n",
    "        im.paste(crop, (int(size/2),0,size,size))\n",
    "    \n",
    "    if size % 2 == 1:\n",
    "        crop = im.crop((0,0,int(size/2),size))\n",
    "        crop = crop.transpose(PIL.Image.FLIP_LEFT_RIGHT)\n",
    "        im.paste(crop, (int(size/2)+1,0,size,size))\n",
    "        \n",
    "    #Fill a chance for the top and bottom quarter of the central verticle to be filled\n",
    "    #Top half\n",
    "    if size % 2 == 1:\n",
    "        to_fill = int(size/3)\n",
    "        num_to_color = random.randint(0,to_fill)\n",
    "        y_values = np.random.uniform(0, int(size/3), num_to_color)\n",
    "        for y in y_values:\n",
    "            color = palette[random.randint(0,int(colors)-1)]\n",
    "            draw.point((int(size/2), y) ,color)\n",
    "    #Bottom half\n",
    "    if size % 2 == 1:\n",
    "        to_fill = int(size/3)\n",
    "        num_to_color = random.randint(0,to_fill)\n",
    "        y_values = np.random.uniform(0, int(size/3), num_to_color)\n",
    "        for y in y_values:\n",
    "            color = palette[random.randint(0,int(colors)-1)]\n",
    "            draw.point((int(size/2), size-y) ,color)\n",
    "            \n",
    "    return im"
   ]
  },
  {
   "cell_type": "code",
   "execution_count": 30,
   "metadata": {},
   "outputs": [
    {
     "data": {
      "image/png": "[encoded data removed]",
      "text/plain": [
       "<PIL.Image.Image image mode=RGB size=500x500 at 0x135A0DAA370>"
      ]
     },
     "execution_count": 30,
     "metadata": {},
     "output_type": "execute_result"
    }
   ],
   "source": [
    "sprite = polar_sprite(11,3)\n",
    "sprite = sprite.resize((500,500),PIL.Image.NEAREST)\n",
    "sprite"
   ]
  },
  {
   "cell_type": "code",
   "execution_count": 62,
   "metadata": {},
   "outputs": [],
   "source": [
    "sprite.save(\"polar_radiance_100_4.png\")"
   ]
  },
  {
   "cell_type": "code",
   "execution_count": null,
   "metadata": {},
   "outputs": [],
   "source": []
  }
 ],
 "metadata": {
  "kernelspec": {
   "display_name": "Python 3",
   "language": "python",
   "name": "python3"
  },
  "language_info": {
   "codemirror_mode": {
    "name": "ipython",
    "version": 3
   },
   "file_extension": ".py",
   "mimetype": "text/x-python",
   "name": "python",
   "nbconvert_exporter": "python",
   "pygments_lexer": "ipython3",
   "version": "3.8.3"
  }
 },
 "nbformat": 4,
 "nbformat_minor": 4
}
