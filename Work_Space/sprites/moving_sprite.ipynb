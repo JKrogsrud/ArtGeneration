{
 "cells": [
  {
   "cell_type": "code",
   "execution_count": 2,
   "metadata": {},
   "outputs": [],
   "source": [
    "import numpy as np\n",
    "import PIL\n",
    "import random\n",
    "from PIL import Image\n",
    "from PIL import ImageDraw"
   ]
  },
  {
   "cell_type": "code",
   "execution_count": 3,
   "metadata": {},
   "outputs": [],
   "source": [
    "def createPalette(number):\n",
    "    palette = []\n",
    "    number = int(number)\n",
    "    for i in range(number):\n",
    "        R = random.randint(0,255)\n",
    "        G = random.randint(0,255)\n",
    "        B = random.randint(0,255)\n",
    "        palette.append((R,G,B))\n",
    "    return(palette)"
   ]
  },
  {
   "cell_type": "code",
   "execution_count": 4,
   "metadata": {},
   "outputs": [],
   "source": [
    "def gen_sprite(size, colors):\n",
    "    size = int(size)\n",
    "    im = Image.new(\"RGB\", (size,size))\n",
    "    im_2 = Image.new(\"RGB\", (size,size))\n",
    "    draw = PIL.ImageDraw.Draw(im,None)\n",
    "    draw_2 = PIL.ImageDraw.Draw(im_2,None)\n",
    "    colors = int(colors)\n",
    "    palette = createPalette(colors)\n",
    "    directions = [(-1,-1), (-1,0),(-1,1), (0,-1), (0,1), (1,-1), (1,0), (1,1)]\n",
    "    if size % 2 == 0:\n",
    "        for i in range(size):\n",
    "            num_to_color = int(np.random.normal(size/4,size/12))\n",
    "            x_coords = random.sample(range(int(size/2)), num_to_color)\n",
    "            for j in x_coords:\n",
    "                color = palette[random.randint(0,int(colors)-1)]\n",
    "                does_it_move = random.randint(0,9)\n",
    "                draw.point((j,i),color)\n",
    "                if does_it_move == 0:\n",
    "                    direction = random.choice(directions)\n",
    "                    draw_2.point((j+direction[0],i+direction[1]),color)\n",
    "                else:\n",
    "                    draw_2.point((j,i),color)\n",
    "        \n",
    "        crop = im.crop((0,0,int(size/2),size))\n",
    "        crop = crop.transpose(PIL.Image.FLIP_LEFT_RIGHT)\n",
    "        im.paste(crop, (int(size/2),0,size,size))\n",
    "        \n",
    "        crop_2 = im_2.crop((0,0,int(size/2),size))\n",
    "        crop_2 = crop_2.transpose(PIL.Image.FLIP_LEFT_RIGHT)\n",
    "        im_2.paste(crop_2, (int(size/2),0,size,size))\n",
    "\n",
    "    if size % 2 == 1:\n",
    "        for i in range(size):\n",
    "            num_to_color = int(np.random.normal(size/4,size/12))\n",
    "            x_coords = random.sample(range(int((size+1)/2)), num_to_color)\n",
    "            for j in x_coords:\n",
    "                color = palette[random.randint(0,int(colors)-1)]\n",
    "                does_it_move = random.randint(0,9)\n",
    "                draw.point((j,i),color)\n",
    "                if does_it_move == 0:\n",
    "                    direction = random.choice(directions)\n",
    "                    draw_2.point((j+direction[0],i+direction[1]),color)\n",
    "                else:\n",
    "                    draw_2.point((j,i),color)\n",
    "                    \n",
    "        crop = im.crop((0,0,int(size/2),size))\n",
    "        crop = crop.transpose(PIL.Image.FLIP_LEFT_RIGHT)\n",
    "        im.paste(crop, (int((size+1)/2),0,size,size))\n",
    "        \n",
    "        crop_2 = im_2.crop((0,0,int(size/2),size))\n",
    "        crop_2 = crop_2.transpose(PIL.Image.FLIP_LEFT_RIGHT)\n",
    "        im_2.paste(crop_2, (int((size+1)/2),0,size,size))\n",
    "        \n",
    "        num_to_color = random.randint(0, int(size))\n",
    "        y_coords = random.sample(range(size), num_to_color)\n",
    "\n",
    "        for k in y_coords:\n",
    "            color = palette[random.randint(0,int(colors)-1)]\n",
    "            draw.point( (int(size/2), k) , color )\n",
    "            draw_2.point( (int(size/2), k) , color )\n",
    "    \n",
    "    return im, im_2"
   ]
  },
  {
   "cell_type": "code",
   "execution_count": 6,
   "metadata": {},
   "outputs": [],
   "source": [
    "sprites = gen_sprite(15,4)\n",
    "sprite = []\n",
    "sprite.append(sprites[0].resize((400,400),PIL.Image.NEAREST))\n",
    "sprite.append(sprites[1].resize((400,400),PIL.Image.NEAREST))\n",
    "sprite[0].save(\"moving.gif\", save_all=True, append_images=sprite[1:], optimize=False, duration=300, loop=0)"
   ]
  },
  {
   "cell_type": "code",
   "execution_count": null,
   "metadata": {},
   "outputs": [],
   "source": []
  }
 ],
 "metadata": {
  "kernelspec": {
   "display_name": "Python 3",
   "language": "python",
   "name": "python3"
  },
  "language_info": {
   "codemirror_mode": {
    "name": "ipython",
    "version": 3
   },
   "file_extension": ".py",
   "mimetype": "text/x-python",
   "name": "python",
   "nbconvert_exporter": "python",
   "pygments_lexer": "ipython3",
   "version": "3.8.3"
  }
 },
 "nbformat": 4,
 "nbformat_minor": 4
}
