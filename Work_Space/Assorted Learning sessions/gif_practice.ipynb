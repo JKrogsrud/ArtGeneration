{
 "cells": [
  {
   "cell_type": "code",
   "execution_count": 1,
   "metadata": {},
   "outputs": [],
   "source": [
    "import numpy as np\n",
    "import PIL\n",
    "import random\n",
    "from PIL import Image\n",
    "from PIL import ImageDraw"
   ]
  },
  {
   "cell_type": "code",
   "execution_count": 8,
   "metadata": {},
   "outputs": [],
   "source": [
    "images = []\n",
    "for i in range(25):\n",
    "    new_im = Image.new('RGB', (25,25))\n",
    "    draw = PIL.ImageDraw.Draw(new_im, None)\n",
    "    draw.point((i,i), (255,255,255))\n",
    "    new_im = new_im.resize((400,400),PIL.Image.NEAREST)\n",
    "    images.append(new_im)\n",
    "images[0].save('test_gif.gif', save_all=True, append_images=images[1:], optimize=False, duration=40, loop=0)"
   ]
  }
 ],
 "metadata": {
  "kernelspec": {
   "display_name": "Python 3",
   "language": "python",
   "name": "python3"
  },
  "language_info": {
   "codemirror_mode": {
    "name": "ipython",
    "version": 3
   },
   "file_extension": ".py",
   "mimetype": "text/x-python",
   "name": "python",
   "nbconvert_exporter": "python",
   "pygments_lexer": "ipython3",
   "version": "3.8.3"
  }
 },
 "nbformat": 4,
 "nbformat_minor": 4
}
