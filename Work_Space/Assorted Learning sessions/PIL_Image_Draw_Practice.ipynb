{
 "cells": [
  {
   "cell_type": "code",
   "execution_count": 2,
   "metadata": {},
   "outputs": [],
   "source": [
    "import numpy as np\n",
    "import PIL\n",
    "import random\n",
    "from PIL import Image\n",
    "from PIL import ImageDraw"
   ]
  },
  {
   "cell_type": "markdown",
   "metadata": {},
   "source": [
    "### Start an image"
   ]
  },
  {
   "cell_type": "code",
   "execution_count": 3,
   "metadata": {},
   "outputs": [],
   "source": [
    "im = Image.new(\"RGB\",(50,50))"
   ]
  },
  {
   "cell_type": "code",
   "execution_count": 4,
   "metadata": {},
   "outputs": [
    {
     "data": {
      "image/png": "[encoded data removed]",
      "text/plain": [
       "<PIL.Image.Image image mode=RGB size=50x50 at 0x14759695670>"
      ]
     },
     "execution_count": 4,
     "metadata": {},
     "output_type": "execute_result"
    }
   ],
   "source": [
    "im"
   ]
  },
  {
   "cell_type": "code",
   "execution_count": 5,
   "metadata": {},
   "outputs": [],
   "source": [
    "draw = PIL.ImageDraw.Draw(im)"
   ]
  },
  {
   "cell_type": "code",
   "execution_count": 6,
   "metadata": {},
   "outputs": [
    {
     "data": {
      "text/plain": [
       "<PIL.ImageDraw.ImageDraw at 0x14759733340>"
      ]
     },
     "execution_count": 6,
     "metadata": {},
     "output_type": "execute_result"
    }
   ],
   "source": [
    "draw"
   ]
  },
  {
   "cell_type": "code",
   "execution_count": 7,
   "metadata": {},
   "outputs": [],
   "source": [
    "draw.point((0,0), (100,100,100))"
   ]
  },
  {
   "cell_type": "code",
   "execution_count": 8,
   "metadata": {},
   "outputs": [],
   "source": [
    "im.show()"
   ]
  },
  {
   "cell_type": "markdown",
   "metadata": {},
   "source": [
    "### Generate \"n\" colors"
   ]
  },
  {
   "cell_type": "code",
   "execution_count": 9,
   "metadata": {},
   "outputs": [],
   "source": [
    "def createPalette(number):\n",
    "    palette = []\n",
    "    number = int(number)\n",
    "    for i in range(number):\n",
    "        R = random.randint(0,255)\n",
    "        G = random.randint(0,255)\n",
    "        B = random.randint(0,255)\n",
    "        palette.append((R,G,B))\n",
    "    return(palette)"
   ]
  },
  {
   "cell_type": "code",
   "execution_count": 10,
   "metadata": {},
   "outputs": [],
   "source": [
    " palette = createPalette(5)"
   ]
  },
  {
   "cell_type": "code",
   "execution_count": 11,
   "metadata": {},
   "outputs": [
    {
     "data": {
      "text/plain": [
       "[(186, 176, 64), (160, 53, 102), (141, 235, 99), (180, 156, 55), (108, 59, 22)]"
      ]
     },
     "execution_count": 11,
     "metadata": {},
     "output_type": "execute_result"
    }
   ],
   "source": [
    "palette"
   ]
  },
  {
   "cell_type": "code",
   "execution_count": 12,
   "metadata": {},
   "outputs": [],
   "source": [
    "def gen_sprite(size, colors):\n",
    "    size = int(size)\n",
    "    im = Image.new(\"RGB\", (size,size))\n",
    "    draw = PIL.ImageDraw.Draw(im,None)\n",
    "    colors = int(colors)\n",
    "    palette = createPalette(colors)\n",
    "    if size % 2 == 0:\n",
    "        for i in range(size):\n",
    "            num_to_color = random.randint(0,int(size/2))\n",
    "            x_coords = random.sample(range(int(size/2)), num_to_color)\n",
    "            for j in x_coords:\n",
    "                color = palette[random.randint(0,int(colors)-1)]\n",
    "                draw.point((j,i),color)\n",
    "        crop = im.crop((0,0,int(size/2),size))\n",
    "        crop = crop.transpose(PIL.Image.FLIP_LEFT_RIGHT)\n",
    "        im.paste(crop, (int(size/2),0,size,size))\n",
    "\n",
    "    if size % 2 == 1:\n",
    "        for i in range(size):\n",
    "            num_to_color = random.randint(0,int((size+1)/2))\n",
    "            x_coords = random.sample(range(int((size+1)/2)), num_to_color)\n",
    "            for j in x_coords:\n",
    "                color = palette[random.randint(0,int(colors)-1)]\n",
    "                draw.point((j,i),color)\n",
    "        crop = im.crop((0,0,int(size/2),size))\n",
    "        crop = crop.transpose(PIL.Image.FLIP_LEFT_RIGHT)\n",
    "        im.paste(crop, (int((size+1)/2),0,size,size))\n",
    "        \n",
    "        num_to_color = random.randint(0, int(size))\n",
    "        y_coords = random.sample(range(size), num_to_color)\n",
    "\n",
    "        for k in y_coords:\n",
    "            color = palette[random.randint(0,int(colors)-1)]\n",
    "            draw.point( (int(size/2), k) , color )\n",
    "    \n",
    "    return im"
   ]
  },
  {
   "cell_type": "code",
   "execution_count": 13,
   "metadata": {},
   "outputs": [
    {
     "data": {
      "text/plain": [
       "1"
      ]
     },
     "execution_count": 13,
     "metadata": {},
     "output_type": "execute_result"
    }
   ],
   "source": [
    "int(3/2)"
   ]
  },
  {
   "cell_type": "code",
   "execution_count": 29,
   "metadata": {},
   "outputs": [
    {
     "data": {
      "image/png": "[encoded data removed]",
      "text/plain": [
       "<PIL.Image.Image image mode=RGB size=240x240 at 0x1475A75F490>"
      ]
     },
     "execution_count": 29,
     "metadata": {},
     "output_type": "execute_result"
    }
   ],
   "source": [
    "sprite = gen_sprite(24,4)\n",
    "sprite = sprite.resize((240,240),PIL.Image.NEAREST)\n",
    "sprite"
   ]
  },
  {
   "cell_type": "code",
   "execution_count": 30,
   "metadata": {},
   "outputs": [],
   "source": [
    "sprite.save('bug_eyes_24_4.png')"
   ]
  },
  {
   "cell_type": "code",
   "execution_count": null,
   "metadata": {},
   "outputs": [],
   "source": []
  }
 ],
 "metadata": {
  "kernelspec": {
   "display_name": "Python 3",
   "language": "python",
   "name": "python3"
  },
  "language_info": {
   "codemirror_mode": {
    "name": "ipython",
    "version": 3
   },
   "file_extension": ".py",
   "mimetype": "text/x-python",
   "name": "python",
   "nbconvert_exporter": "python",
   "pygments_lexer": "ipython3",
   "version": "3.8.3"
  }
 },
 "nbformat": 4,
 "nbformat_minor": 4
}
