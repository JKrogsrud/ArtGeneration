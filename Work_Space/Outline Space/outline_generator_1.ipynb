{
 "cells": [
  {
   "cell_type": "code",
   "execution_count": 1,
   "metadata": {},
   "outputs": [],
   "source": [
    "import numpy as np\n",
    "import PIL\n",
    "import random\n",
    "from PIL import Image\n",
    "from PIL import ImageDraw\n",
    "import pandas as pd\n",
    "import copy"
   ]
  },
  {
   "cell_type": "code",
   "execution_count": 2,
   "metadata": {},
   "outputs": [
    {
     "data": {
      "text/plain": [
       "array([[[225, 225, 223],\n",
       "        [225, 225, 223],\n",
       "        [225, 225, 223],\n",
       "        ...,\n",
       "        [235, 235, 235],\n",
       "        [235, 235, 235],\n",
       "        [235, 235, 235]],\n",
       "\n",
       "       [[225, 225, 223],\n",
       "        [225, 225, 223],\n",
       "        [225, 225, 223],\n",
       "        ...,\n",
       "        [235, 235, 235],\n",
       "        [235, 235, 235],\n",
       "        [235, 235, 235]],\n",
       "\n",
       "       [[225, 225, 223],\n",
       "        [225, 225, 223],\n",
       "        [225, 225, 223],\n",
       "        ...,\n",
       "        [235, 235, 235],\n",
       "        [235, 235, 235],\n",
       "        [235, 235, 235]],\n",
       "\n",
       "       ...,\n",
       "\n",
       "       [[211, 211, 211],\n",
       "        [211, 211, 211],\n",
       "        [211, 211, 211],\n",
       "        ...,\n",
       "        [227, 227, 229],\n",
       "        [227, 227, 229],\n",
       "        [227, 227, 229]],\n",
       "\n",
       "       [[211, 211, 211],\n",
       "        [211, 211, 211],\n",
       "        [211, 211, 211],\n",
       "        ...,\n",
       "        [227, 227, 229],\n",
       "        [227, 227, 229],\n",
       "        [227, 227, 229]],\n",
       "\n",
       "       [[211, 211, 211],\n",
       "        [211, 211, 211],\n",
       "        [211, 211, 211],\n",
       "        ...,\n",
       "        [227, 227, 229],\n",
       "        [227, 227, 229],\n",
       "        [227, 227, 229]]], dtype=uint8)"
      ]
     },
     "execution_count": 2,
     "metadata": {},
     "output_type": "execute_result"
    }
   ],
   "source": [
    "# Importing a picture and storing it as an array\n",
    "image = Image.open(\"sheeran.png\")\n",
    "data = np.asarray(image)\n",
    "data"
   ]
  },
  {
   "cell_type": "code",
   "execution_count": 3,
   "metadata": {},
   "outputs": [
    {
     "data": {
      "text/plain": [
       "array([[ True, False, False],\n",
       "       [False, False, False],\n",
       "       [False, False,  True]])"
      ]
     },
     "execution_count": 3,
     "metadata": {},
     "output_type": "execute_result"
    }
   ],
   "source": [
    "[0,0,0]\n",
    "prac = np.array([[[255,0,0],[0,0,0],[0,0,0]],\n",
    "                 [[0,0,0],[0,0,0],[0,0,0]],\n",
    "                 [[0,0,0],[0,0,0],[255,0,0]]])\n",
    "\n",
    "new_array = np.array([ [(j == [255,0,0]).all() for j in i] for i in prac])\n",
    "#for i in range(3):\n",
    "    #for j in range(3):\n",
    "        #if new_array[i][j] == True:\n",
    "            #new_array[i][j] = str('P')\n",
    "        #else:\n",
    "            #new_array[i][j] = False\n",
    "            \n",
    "new_array"
   ]
  },
  {
   "cell_type": "code",
   "execution_count": 4,
   "metadata": {},
   "outputs": [
    {
     "name": "stdout",
     "output_type": "stream",
     "text": [
      "False\n"
     ]
    },
    {
     "data": {
      "text/plain": [
       "array([[ True,  True, False],\n",
       "       [False, False, False],\n",
       "       [False, False,  True]])"
      ]
     },
     "execution_count": 4,
     "metadata": {},
     "output_type": "execute_result"
    }
   ],
   "source": [
    "new_array[0][1] = True\n",
    "if new_array[0][1]:\n",
    "    print('False')\n",
    "new_array"
   ]
  },
  {
   "cell_type": "code",
   "execution_count": 5,
   "metadata": {},
   "outputs": [],
   "source": [
    "array = [['P',0,0,0],[0,0,0,0],[0,0,'P',0],[0,0,0,0],[0,0,0,0]]"
   ]
  },
  {
   "cell_type": "code",
   "execution_count": 6,
   "metadata": {},
   "outputs": [],
   "source": [
    "### OBSELETE\n",
    "points = ['P']\n",
    "exceptions = ['P']\n",
    "\n",
    "for i in range(len(array)):\n",
    "    for j in range(len(array[0])):\n",
    "        if array[i][j] == 'P':\n",
    "            #Exception for first row\n",
    "            if i == 0:\n",
    "                #Exception for first column\n",
    "                if j == 0:\n",
    "                    if array[i][j+1] == 0 or array[i][j+1] == 'A':\n",
    "                        array[i][j+1] = 'A'\n",
    "                    if array[i+1][j] == 0 or array[i+1][j] == 'A':\n",
    "                        array[i+1][j] = 'A'\n",
    "                #Exception for the last column        \n",
    "                elif j == len(array[0])-1:\n",
    "                    if array[i][j-1] == 0 or array[i][j-1] == 'A':\n",
    "                        array[i][j-1] = 'A'\n",
    "                    if array[i+1][j] == 0 or array[i+1][j] == 'A':\n",
    "                        array[i+1][j] = 'A'\n",
    "                #Everything Else\n",
    "                else:\n",
    "                    if array[i][j-1] == 0 or array[i][j-1] == 'A':\n",
    "                        array[i][j-1] = 'A'\n",
    "                    if array[i][j+1] == 0 or array[i][j+1] == 'A':\n",
    "                        array[i][j+1] = 'A'\n",
    "                    if array[i+1][j] == 0 or array[i+1][j] == 'A':\n",
    "                        array[i+1][j] = 'A'\n",
    "            #Exceptions for the last row\n",
    "            elif i==len(array)-1:\n",
    "                #Exception for first column\n",
    "                if j == 0:\n",
    "                    if array[i][j+1] == 0 or array[i][j+1] == 'A':\n",
    "                        array[i][j+1] = 'A'\n",
    "                    if array[i-1][j] == 0 or array[i-1][j] == 'A':\n",
    "                        array[i-1][j] = 'A'\n",
    "                #Exception for the last column        \n",
    "                elif j == len(array[0])-1:\n",
    "                    if array[i][j-1] == 0 or array[i][j-1] == 'A':\n",
    "                        array[i][j-1] = 'A'\n",
    "                    if array[i-1][j] == 0 or array[i-1][j] == 'A':\n",
    "                        array[i-1][j] = 'A'\n",
    "                #Everything Else\n",
    "                else:\n",
    "                    if array[i][j-1] == 0 or array[i][j-1] == 'A':\n",
    "                        array[i][j-1] = 'A'\n",
    "                    if array[i][j+1] == 0 or array[i][j+1] == 'A':\n",
    "                        array[i][j+1] = 'A'\n",
    "                    if array[i-1][j] == 0 or array[i-1][j] == 'A':\n",
    "                        array[i-1][j] = 'A'\n",
    "            #The Rest\n",
    "            else:\n",
    "                #Eceptions for first column\n",
    "                if j==0:\n",
    "                    if array[i][j+1] == 0 or array[i][j+1] == 'A':\n",
    "                        array[i][j+1] = 'A'\n",
    "                    if array[i-1][j] == 0 or array[i-1][j] == 'A':\n",
    "                        array[i-1][j] = 'A'\n",
    "                    if array[i+1][j] == 0 or array[i+1][j] == 'A':\n",
    "                        array[i+1][j] = 'A'\n",
    "                        \n",
    "                #Exception for last column\n",
    "                elif j == len(array[0])-1:\n",
    "                    if array[i][j-1] == 0 or array[i][j-1] == 'A':\n",
    "                        array[i][j-1] = 'A'\n",
    "                    if array[i+1][j] == 0 or array[i+1][j] == 'A':\n",
    "                        array[i+1][j] = 'A'\n",
    "                    if array[i-1][j] == 0 or array[i-1][j] == 'A':\n",
    "                        array[i-1][j] = 'A'\n",
    "                \n",
    "                #The rest\n",
    "                else:\n",
    "                    if array[i][j-1] == 0 or array[i][j-1] == 'A':\n",
    "                        array[i][j-1] = 'A'\n",
    "                    if array[i+1][j] == 0 or array[i+1][j] == 'A':\n",
    "                        array[i+1][j] = 'A'\n",
    "                    if array[i-1][j] == 0 or array[i-1][j] == 'A':\n",
    "                        array[i-1][j] = 'A'\n",
    "                    if array[i][j+1] == 0 or array[i][j+1] == 'A':\n",
    "                        array[i][j+1] = 'A'"
   ]
  },
  {
   "cell_type": "code",
   "execution_count": 7,
   "metadata": {},
   "outputs": [],
   "source": [
    "### Takes an array filled with true or False values and returns an array with True values in all postions adjacent to where the original array had True\n",
    "def adjacent_array(array):\n",
    "    array = array\n",
    "    new_array = copy.deepcopy(array)\n",
    "    for i in range(len(array)):\n",
    "        for j in range(len(array[0])):\n",
    "            if array[i][j] == True:\n",
    "                #Exception for first row\n",
    "                if i == 0:\n",
    "                    #Exception for first column\n",
    "                    if j == 0:\n",
    "                        new_array[i][j+1] = True\n",
    "                        new_array[i+1][j] = True\n",
    "                    #Exception for the last column        \n",
    "                    elif j == len(array[0])-1:\n",
    "                        new_array[i][j-1] = True\n",
    "                        new_array[i+1][j] = True\n",
    "                    #Everything Else\n",
    "                    else:\n",
    "                        new_array[i][j-1] = True\n",
    "                        new_array[i][j+1] = True\n",
    "                        new_array[i+1][j] = True\n",
    "                #Exceptions for the last row\n",
    "                elif i==len(array)-1:\n",
    "                    #Exception for first column\n",
    "                    if j == 0:\n",
    "                        new_array[i][j+1] = True\n",
    "                        new_array[i-1][j] = True\n",
    "                    #Exception for the last column        \n",
    "                    elif j == len(array[0])-1:\n",
    "                        new_array[i][j-1] = True\n",
    "                        new_array[i-1][j] = True\n",
    "                    #Everything Else\n",
    "                    else:\n",
    "                        new_array[i][j-1] = True\n",
    "                        new_array[i][j+1] = True\n",
    "                        new_array[i-1][j] = True\n",
    "                #The Rest\n",
    "                else:\n",
    "                    #Eceptions for first column\n",
    "                    if j==0:\n",
    "                        new_array[i][j+1] = True\n",
    "                        new_array[i-1][j] = True\n",
    "                        new_array[i+1][j] = True\n",
    "                        \n",
    "                    #Exception for last column\n",
    "                    elif j == len(array[0])-1:\n",
    "                        new_array[i][j-1] = True\n",
    "                        new_array[i+1][j] = True\n",
    "                        new_array[i-1][j] = True\n",
    "                \n",
    "                    #The rest\n",
    "                    else:\n",
    "                        new_array[i][j-1] = True\n",
    "                        new_array[i+1][j] = True\n",
    "                        new_array[i-1][j] = True\n",
    "                        new_array[i][j+1] = True\n",
    "    return new_array"
   ]
  },
  {
   "cell_type": "code",
   "execution_count": 8,
   "metadata": {},
   "outputs": [
    {
     "data": {
      "text/plain": [
       "array([[ True, False, False, False],\n",
       "       [False, False, False, False],\n",
       "       [False, False, False, False],\n",
       "       [False, False, False,  True]])"
      ]
     },
     "execution_count": 8,
     "metadata": {},
     "output_type": "execute_result"
    }
   ],
   "source": [
    "array = np.array([[True, False, False, False], [False, False, False, False], [False, False, False, False], [False, False, False, True]])\n",
    "array"
   ]
  },
  {
   "cell_type": "code",
   "execution_count": 9,
   "metadata": {},
   "outputs": [
    {
     "data": {
      "text/plain": [
       "array([[ True,  True,  True, False],\n",
       "       [ True,  True, False,  True],\n",
       "       [ True, False,  True,  True],\n",
       "       [False,  True,  True,  True]])"
      ]
     },
     "execution_count": 9,
     "metadata": {},
     "output_type": "execute_result"
    }
   ],
   "source": [
    "array_2 = adjacent_array(array)\n",
    "array_2 = adjacent_array(array_2)\n",
    "array_2"
   ]
  },
  {
   "cell_type": "code",
   "execution_count": 10,
   "metadata": {},
   "outputs": [],
   "source": [
    "### Now to take the adjacent array and repeat 'n' times, \n",
    "### the last two matrices then have an operation performed and their result is what is returned\n",
    "### essentially returning the \"last added true values\"\n",
    "def outline(array, repeat):\n",
    "    n = int(repeat)\n",
    "    copy_memory = []\n",
    "    copy_memory.append(array)\n",
    "    for i in range(n):\n",
    "        new_array = adjacent_array(copy_memory[-1])\n",
    "        copy_memory.append(new_array)\n",
    "    B = copy_memory[-1]\n",
    "    A = copy_memory[-2]\n",
    "    C = B & ~A\n",
    "    return C"
   ]
  },
  {
   "cell_type": "code",
   "execution_count": 11,
   "metadata": {},
   "outputs": [
    {
     "data": {
      "text/plain": [
       "array([[ True, False, False, False, False],\n",
       "       [False, False, False, False, False],\n",
       "       [False, False, False, False, False],\n",
       "       [False, False, False,  True, False],\n",
       "       [False, False, False, False,  True]])"
      ]
     },
     "execution_count": 11,
     "metadata": {},
     "output_type": "execute_result"
    }
   ],
   "source": [
    "array = np.array([[ True, False, False, False, False],\n",
    "       [False, False, False, False, False],\n",
    "       [False, False, False, False, False],\n",
    "       [False, False, False,  True, False],\n",
    "       [False, False, False,  False, True]])\n",
    "array"
   ]
  },
  {
   "cell_type": "code",
   "execution_count": 12,
   "metadata": {},
   "outputs": [
    {
     "data": {
      "text/plain": [
       "array([[False, False,  True, False, False],\n",
       "       [False,  True, False,  True, False],\n",
       "       [ True, False,  True, False,  True],\n",
       "       [False,  True, False, False, False],\n",
       "       [False, False,  True, False, False]])"
      ]
     },
     "execution_count": 12,
     "metadata": {},
     "output_type": "execute_result"
    }
   ],
   "source": [
    "outline(array, 2)"
   ]
  },
  {
   "cell_type": "code",
   "execution_count": 13,
   "metadata": {},
   "outputs": [
    {
     "data": {
      "image/png": "[encoded data removed]",
      "text/plain": [
       "<PIL.Image.Image image mode=L size=50x50 at 0x2239707D610>"
      ]
     },
     "execution_count": 13,
     "metadata": {},
     "output_type": "execute_result"
    }
   ],
   "source": [
    "image = Image.new(\"RGB\", (50,50))\n",
    "draw = ImageDraw.Draw(image)\n",
    "draw.point((3,4), (255,0,0))\n",
    "draw.point((25,45), (255,0,0))\n",
    "draw.point((34,29), (255,0,0))\n",
    "data = np.asarray(image)\n",
    "new_array = np.array([ [(j == [255,0,0]).all() for j in i] for i in data])\n",
    "out = outline(new_array, 4)\n",
    "mask = Image.fromarray(np.uint8(255*out))\n",
    "mask"
   ]
  },
  {
   "cell_type": "code",
   "execution_count": 14,
   "metadata": {},
   "outputs": [
    {
     "data": {
      "image/png": "[encoded data removed]",
      "text/plain": [
       "<PIL.Image.Image image mode=RGB size=50x50 at 0x2239408D9A0>"
      ]
     },
     "execution_count": 14,
     "metadata": {},
     "output_type": "execute_result"
    }
   ],
   "source": [
    "red_image = Image.new(\"RGB\", (50,50), (255,0,0))\n",
    "image.paste(red_image, (0,0), mask)\n",
    "image"
   ]
  },
  {
   "cell_type": "code",
   "execution_count": 163,
   "metadata": {},
   "outputs": [
    {
     "data": {
      "image/png": "[encoded data removed]",
      "text/plain": [
       "<PIL.Image.Image image mode=RGB size=250x250 at 0x1E146930E50>"
      ]
     },
     "execution_count": 163,
     "metadata": {},
     "output_type": "execute_result"
    }
   ],
   "source": [
    "### Time to loop it and make some\n",
    "image = Image.new(\"RGB\", (250,250))\n",
    "draw = ImageDraw.Draw(image)\n",
    "# Draw random 100 points\n",
    "for i in range(100):\n",
    "    x = random.randint(0,249)\n",
    "    y = random.randint(0,249)\n",
    "    coord = (x,y)\n",
    "    draw.point(coord,(255,0,0))\n",
    "for i in range(25):\n",
    "    data = np.asarray(image)\n",
    "    new_array = np.array([ [(j == [255,0,0]).all() for j in i] for i in data])\n",
    "    out = outline(new_array, 10)\n",
    "    mask = Image.fromarray(np.uint8(255*out))\n",
    "    red_image = Image.new(\"RGB\", (250,250), (255,0,0))\n",
    "    image.paste(red_image, (0,0), mask)\n",
    "image"
   ]
  },
  {
   "cell_type": "code",
   "execution_count": 165,
   "metadata": {},
   "outputs": [
    {
     "data": {
      "image/png": "[encoded data removed]",
      "text/plain": [
       "<PIL.Image.Image image mode=RGB size=500x500 at 0x1E146997C70>"
      ]
     },
     "execution_count": 165,
     "metadata": {},
     "output_type": "execute_result"
    }
   ],
   "source": [
    "image_2 = image.resize((500,500),PIL.Image.NEAREST)\n",
    "image_2"
   ]
  },
  {
   "cell_type": "code",
   "execution_count": 166,
   "metadata": {},
   "outputs": [],
   "source": [
    "image_2.save('outlines_1.png')"
   ]
  },
  {
   "cell_type": "code",
   "execution_count": 168,
   "metadata": {},
   "outputs": [
    {
     "data": {
      "image/png": "[encoded data removed]",
      "text/plain": [
       "<PIL.Image.Image image mode=RGB size=250x250 at 0x1E14A49A670>"
      ]
     },
     "execution_count": 168,
     "metadata": {},
     "output_type": "execute_result"
    }
   ],
   "source": [
    "### Time to loop it and make some\n",
    "image = Image.new(\"RGB\", (250,250))\n",
    "draw = ImageDraw.Draw(image)\n",
    "# Draw random 100 points\n",
    "for i in range(10):\n",
    "    x_1 = random.randint(0,249)\n",
    "    y_1 = random.randint(0,249)\n",
    "    x_2 = random.randint(0,249)\n",
    "    y_2 = random.randint(0,249)\n",
    "    coord_1 = (x_1,y_1)\n",
    "    coord_2 = (x_2,y_2)\n",
    "    draw.line([coord_1,coord_2], fill=(255,0,0), width=1, joint=None)\n",
    "for i in range(25):\n",
    "    data = np.asarray(image)\n",
    "    new_array = np.array([ [(j == [255,0,0]).all() for j in i] for i in data])\n",
    "    out = outline(new_array, 10)\n",
    "    mask = Image.fromarray(np.uint8(255*out))\n",
    "    red_image = Image.new(\"RGB\", (250,250), (255,0,0))\n",
    "    image.paste(red_image, (0,0), mask)\n",
    "image"
   ]
  },
  {
   "cell_type": "code",
   "execution_count": 169,
   "metadata": {},
   "outputs": [],
   "source": [
    "image_2 = image.resize((500,500), PIL.Image.NEAREST)\n",
    "image_2.save(\"red_outlines_2.png\")"
   ]
  },
  {
   "cell_type": "code",
   "execution_count": 176,
   "metadata": {},
   "outputs": [
    {
     "data": {
      "image/png": "[encoded data removed]",
      "text/plain": [
       "<PIL.Image.Image image mode=RGB size=250x250 at 0x1E148F1ACA0>"
      ]
     },
     "execution_count": 176,
     "metadata": {},
     "output_type": "execute_result"
    }
   ],
   "source": [
    "### Goal: Overlay two of these patterns with different complimentary colors\n",
    "#Create 10 random points, use these 10 points for the expansion with one color\n",
    "#Make 5 random lines out of these points \n",
    "image = Image.new(\"RGB\", (250,250))\n",
    "draw = ImageDraw.Draw(image)\n",
    "# Draw random 10 points\n",
    "coord_list = []\n",
    "color_1 = (0,99,133)\n",
    "color_2 = (0,215,163)\n",
    "for i in range(10):\n",
    "    x = random.randint(0,249)\n",
    "    y = random.randint(0,249)\n",
    "    coord = (x,y)\n",
    "    coord_list.append(coord)\n",
    "# Make points first and complete the process with points\n",
    "for i in coord_list:\n",
    "    draw.point(i,color_1)\n",
    "for i in range(25):\n",
    "    data = np.asarray(image)\n",
    "    new_array = np.array([ [(j == [color_1[0],color_1[1],color_1[2]]).all() for j in i] for i in data])\n",
    "    out = outline(new_array, 10)\n",
    "    mask = Image.fromarray(np.uint8(255*out))\n",
    "    color_1_image = Image.new(\"RGB\", (250,250), color_1)\n",
    "    image.paste(color_1_image, (0,0), mask)\n",
    "    \n",
    "for i in range(int(len(coord_list)/2)):\n",
    "    draw.line([coord_list[2*i],coord_list[2*i+1]], color_2)\n",
    "for i in range(25):\n",
    "    data = np.asarray(image)\n",
    "    new_array = np.array([ [(j == [color_2[0],color_2[1],color_2[2]]).all() for j in i] for i in data])\n",
    "    out = outline(new_array, 10)\n",
    "    mask = Image.fromarray(np.uint8(255*out))\n",
    "    color_2_image = Image.new(\"RGB\", (250,250), color_2)\n",
    "    image.paste(color_2_image, (0,0), mask)\n",
    "image"
   ]
  },
  {
   "cell_type": "code",
   "execution_count": 177,
   "metadata": {},
   "outputs": [
    {
     "data": {
      "image/png": "[encoded data removed]",
      "text/plain": [
       "<PIL.Image.Image image mode=RGB size=500x500 at 0x1E1468F1AC0>"
      ]
     },
     "execution_count": 177,
     "metadata": {},
     "output_type": "execute_result"
    }
   ],
   "source": [
    "image_2 = image.resize((500,500), PIL.Image.NEAREST)\n",
    "image_2"
   ]
  },
  {
   "cell_type": "code",
   "execution_count": 178,
   "metadata": {},
   "outputs": [],
   "source": [
    "image_2.save(\"BG_Outline_point_line_1.png\")"
   ]
  },
  {
   "cell_type": "code",
   "execution_count": 18,
   "metadata": {},
   "outputs": [
    {
     "data": {
      "image/png": "[encoded data removed]",
      "text/plain": [
       "<PIL.Image.Image image mode=RGB size=500x500 at 0x22397553370>"
      ]
     },
     "execution_count": 18,
     "metadata": {},
     "output_type": "execute_result"
    }
   ],
   "source": [
    "### Goal: Overlay two of these patterns with different complimentary colors\n",
    "#Create 10 random points, use these 10 points for the expansion with one color\n",
    "#Make 5 random lines out of these points \n",
    "image = Image.new(\"RGB\", (500,500))\n",
    "draw = ImageDraw.Draw(image)\n",
    "# Draw random 10 points\n",
    "coord_list = []\n",
    "color_1 = (0,99,133)\n",
    "color_2 = (0,215,163)\n",
    "for i in range(20):\n",
    "    x = random.randint(0,499)\n",
    "    y = random.randint(0,499)\n",
    "    coord = (x,y)\n",
    "    coord_list.append(coord)\n",
    "# Make points first and complete the process with points\n",
    "for i in coord_list:\n",
    "    draw.point(i,color_1)\n",
    "for i in range(25):\n",
    "    data = np.asarray(image)\n",
    "    new_array = np.array([ [(j == [color_1[0],color_1[1],color_1[2]]).all() for j in i] for i in data])\n",
    "    out = outline(new_array, 15)\n",
    "    mask = Image.fromarray(np.uint8(255*out))\n",
    "    color_1_image = Image.new(\"RGB\", (500,500), color_1)\n",
    "    image.paste(color_1_image, (0,0), mask)\n",
    "    \n",
    "for i in range(int(len(coord_list)/2)):\n",
    "    draw.line([coord_list[2*i],coord_list[2*i+1]], color_2)\n",
    "for i in range(25):\n",
    "    data = np.asarray(image)\n",
    "    new_array = np.array([ [(j == [color_2[0],color_2[1],color_2[2]]).all() for j in i] for i in data])\n",
    "    out = outline(new_array, 10)\n",
    "    mask = Image.fromarray(np.uint8(255*out))\n",
    "    color_2_image = Image.new(\"RGB\", (500,500), color_2)\n",
    "    image.paste(color_2_image, (0,0), mask)\n",
    "image"
   ]
  },
  {
   "cell_type": "code",
   "execution_count": 19,
   "metadata": {},
   "outputs": [],
   "source": [
    "image.save(\"Green_Blue_Line_Outline_2.png\")"
   ]
  }
 ],
 "metadata": {
  "kernelspec": {
   "display_name": "Python 3",
   "language": "python",
   "name": "python3"
  },
  "language_info": {
   "codemirror_mode": {
    "name": "ipython",
    "version": 3
   },
   "file_extension": ".py",
   "mimetype": "text/x-python",
   "name": "python",
   "nbconvert_exporter": "python",
   "pygments_lexer": "ipython3",
   "version": "3.8.3"
  }
 },
 "nbformat": 4,
 "nbformat_minor": 4
}
