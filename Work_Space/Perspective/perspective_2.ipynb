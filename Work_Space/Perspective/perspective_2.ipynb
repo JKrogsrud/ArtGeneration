{
 "cells": [
  {
   "cell_type": "code",
   "execution_count": 1,
   "metadata": {},
   "outputs": [],
   "source": [
    "from PIL import Image\n",
    "from PIL import ImageDraw\n",
    "import numpy as np"
   ]
  },
  {
   "cell_type": "code",
   "execution_count": 2,
   "metadata": {},
   "outputs": [],
   "source": [
    "## Find the endpoint of a line segment with given start coordinate (x,y), angle (in radians) and distance\n",
    "### returns endpoint with x and y values rounded to (closest?) integer, optional argument if angle given in degrees\n",
    "def line_segment_endpoint(coord, angle, dist, degrees = False):\n",
    "    if degrees == True:\n",
    "        angle = angle * np.pi/180\n",
    "        return (int(dist*np.cos(angle) + coord[0]), int(dist*np.sin(angle) + coord[1]))\n",
    "    else:\n",
    "        return (int(dist*np.cos(angle) + coord[0]), int(dist*np.sin(angle) + coord[1]))\n",
    "\n"
   ]
  },
  {
   "cell_type": "code",
   "execution_count": 3,
   "metadata": {},
   "outputs": [],
   "source": [
    "#  Find angle between two points, output is in radians\n",
    "def angle_between(pt1,pt2):\n",
    "    if pt1 == pt2:\n",
    "        return 0\n",
    "    if pt1[1] <= pt2[1]:\n",
    "        (x1, y1) = pt1\n",
    "        (x2, y2) = pt2\n",
    "        adjacent = x2-x1 \n",
    "        hypot = np.sqrt((x1-x2)**2 + (y1-y2)**2)\n",
    "        return np.arccos(adjacent/hypot)\n",
    "    if pt1[1] > pt2[1]:\n",
    "        (x1, y1) = pt1\n",
    "        (x2, y2) = pt2\n",
    "        adjacent = x2-x1 \n",
    "        hypot = np.sqrt((x1-x2)**2 + (y1-y2)**2)\n",
    "        return 2*np.pi - np.arccos(adjacent/hypot)\n",
    "\n"
   ]
  },
  {
   "cell_type": "code",
   "execution_count": 4,
   "metadata": {},
   "outputs": [],
   "source": [
    "def dist_betw_points(p1,p2):\n",
    "    dist = np.sqrt((p2[0]-p1[0])**2 + (p2[1]-p1[1])**2)\n",
    "    return dist\n",
    "\n"
   ]
  },
  {
   "cell_type": "code",
   "execution_count": 5,
   "metadata": {},
   "outputs": [],
   "source": [
    "#  Creates a quadrilateral that takes two points, a perspective point, edge color and face color, depth\n",
    "#  pt_pair = ((x1,y1),(x2,y2))\n",
    "\n",
    "def perspective_quad(drawable, pt_pair, depth, persp_pt = (0,0), edge_color = (255,255,255), face_color = (0,0,0)):\n",
    "    depth_pts = []\n",
    "    for pt in pt_pair:\n",
    "        depth_pts.append(line_segment_endpoint(pt, angle_between(pt, persp_pt), depth))\n",
    "    quad_pts = [pt_pair[0], pt_pair[1], depth_pts[1], depth_pts[0]]\n",
    "    drawable.polygon(quad_pts, fill=face_color, outline=edge_color)\n",
    "\n"
   ]
  },
  {
   "cell_type": "code",
   "execution_count": 6,
   "metadata": {},
   "outputs": [],
   "source": [
    "def create_square(p1, p2):\n",
    "    dist = dist_betw_points(p1,p2)\n",
    "    angle = angle_between(p1,p2)\n",
    "    # line_segment_endpoint(coord, angle, dist, degrees = False)\n",
    "    p4 = line_segment_endpoint(p1, angle + (np.pi/2), dist)\n",
    "    p3 = line_segment_endpoint(p2, angle + (np.pi/2), dist)\n",
    "    return [p1,p2,p3,p4]\n",
    "\n"
   ]
  },
  {
   "cell_type": "code",
   "execution_count": 7,
   "metadata": {},
   "outputs": [],
   "source": [
    "# The following takes a single point (p1), and a perspective point (persp_pt), along with a depth proportion constant (depth_prop)\n",
    "# It outputs a point that is a distance away from p1 equal to depth_prop * dist(p1, persp_pt) that is collinear with p1 and persp_pt\n",
    "\n",
    "def perspective_depth(p1, persp_pt, depth_prop):\n",
    "    angle = angle_between(p1,persp_pt)\n",
    "    dist = dist_betw_points(persp_pt, p1) * depth_prop\n",
    "    return line_segment_endpoint(p1, angle, dist, degrees = False)\n",
    "\n"
   ]
  },
  {
   "cell_type": "code",
   "execution_count": 8,
   "metadata": {},
   "outputs": [],
   "source": [
    "# The following takes as an input two points (p1, p2), a perspective point (persp_pt), and a second point on the line from p1 to persp_pt (b1)\n",
    "# Output is then given as a point b2 that is on the line from p2 to persp_pt such that it is the intersection point with the line paralel to line(p1,p2) through b1\n",
    "\n",
    "# This function can accept b1 both closer to the persp_pt than p1 or further away so can be sued for many different problems \n",
    "\n",
    "# Account for the following problems that could pop up: What if p1 = p2, p2 = persp_pt, or p1 = persp_pt?\n",
    "#                                                       What if any of the given points points share an x-value, making the slope infinite?\n",
    "\n",
    "def parallel_intersection(p1,p2,b1,persp_pt):\n",
    "    \n",
    "    # Need to start with a clause making sure I'm not dividing by zero\n",
    "    \n",
    "    if (p1[0] != p2[0]) and (p2[0] != persp_pt[0]):\n",
    "        \n",
    "        # Within this I need to check if the points are colinear\n",
    "        # Find the slopes for each of the line segments\n",
    "        \n",
    "        m1 = (p2[1] - p1[1]) / (p2[0] - p1[0])\n",
    "        m2 = (p2[1] - persp_pt[1]) / (p2[0] - persp_pt[0])\n",
    "        \n",
    "        # Find the x and y values of the new point\n",
    "        \n",
    "        if m1 != m2:\n",
    "            \n",
    "            x = (b1[1] - p2[1] + m2*p2[0] - m1*b1[0]) / (m2 - m1)\n",
    "            y = p2[1] + m2*x - m2*p2[0]\n",
    "            return (x,y)\n",
    "        \n",
    "        #Case: Colinear points\n",
    "        \n",
    "        else:\n",
    "            \n",
    "            delta_x = b1[0] - p1[0]\n",
    "            delta_y = b1[1] - p1[1]\n",
    "            \n",
    "            return (p2[0] + delta_x, p2[1] + delta_y)\n",
    "    \n",
    "    # Case: p1 and p2 have the same x-value, the same is not true for p2 and persp_pt\n",
    "    \n",
    "    if (p1[0] == p2[0]) and (p2[0] != persp_pt[0]):\n",
    "        \n",
    "        m2 = (p2[1] - persp_pt[1]) / (p2[0] - persp_pt[0])\n",
    "        x = b1[0]\n",
    "        y = p2[1] + m2*(x - p2[0])\n",
    "            \n",
    "        return (x,y)\n",
    "    \n",
    "    # Case: p2 and persp_pt share an x-value, the same is not true for p1 and p2\n",
    "    \n",
    "    if (p1[0] != p2[0]) and (p2[0] == persp_pt[0]):\n",
    "        \n",
    "        m1 = (p2[1] - p1[1]) / (p2[0] - p1[0])\n",
    "        x = p2[0]\n",
    "        y = b1[1] + m1*(x - b1[0])\n",
    "        \n",
    "        return (x,y)\n",
    "    \n",
    "    # Case: Somehow all three points are collinear and share an x-value\n",
    "    \n",
    "    if (p1[0] == p2[0] == perst_pt[0]):\n",
    "        \n",
    "        delta_y = b1[1] - p1[1]\n",
    "        \n",
    "        return (p2[0], p2[1] + delta_y)\n",
    "\n"
   ]
  },
  {
   "cell_type": "code",
   "execution_count": 9,
   "metadata": {},
   "outputs": [
    {
     "data": {
      "image/png": "[encoded data removed]",
      "text/plain": [
       "<PIL.Image.Image image mode=RGB size=400x400 at 0x1C1841DA8E0>"
      ]
     },
     "execution_count": 9,
     "metadata": {},
     "output_type": "execute_result"
    }
   ],
   "source": [
    "image = Image.new('RGB', (400,400))\n",
    "draw = ImageDraw.Draw(image)\n",
    "p1 = (100,300)\n",
    "persp_pt = (399,399)\n",
    "b1 = perspective_depth(p1,persp_pt, float(1/2))\n",
    "p2 = (300,100)\n",
    "b2 = parallel_intersection(p1,p2,b1,persp_pt)\n",
    "draw.polygon([p1,b1,b2,p2])\n",
    "image"
   ]
  },
  {
   "cell_type": "code",
   "execution_count": 10,
   "metadata": {},
   "outputs": [],
   "source": [
    "# perspective_gon redone\n",
    "\n",
    "def perspective_gon(drawable, vertex_list, depth_prop, persp_pt = (0,0), surface = True, edge_color = (255,255,255), surface_color = (0,0,0), side_color = (0,0,0)):\n",
    "    \n",
    "    #  Borrowing from the first we create a dictionary for each vertex that gives some of it's attributes: name (vertex), distance from perspective point (distance)\n",
    "    #  It also includes the points neighbors (neighbors), it should also include the vertex that approaches the perspective point\n",
    "    \n",
    "    vertices = []\n",
    "    \n",
    "    #  Create the dictionaries, with names, neighbors and distance from persp_pt\n",
    "    \n",
    "    for vertex in vertex_list:\n",
    "        vertex_dict = {}\n",
    "        vertex_dict['vertex'] = vertex  \n",
    "        (x1,y1) = vertex\n",
    "        (x2,y2) = persp_pt\n",
    "        distance = np.sqrt((x1-x2)**2 + (y1-y2)**2)\n",
    "        vertex_dict['distance'] = distance\n",
    "        vertex_dict['neighbors'] = [vertex_list[(vertex_list.index(vertex)-1) % len(vertex_list)], vertex_list[(vertex_list.index(vertex)+1) % len(vertex_list)]]\n",
    "        vertices.append(vertex_dict)\n",
    "    \n",
    "    #  Take the first listed vertex and use that to start finding the vertices that create depth\n",
    "    \n",
    "    # perspective_depth(p1, persp_pt, depth_prop)\n",
    "    b1 = perspective_depth(vertices[0]['vertex'], persp_pt, depth_prop)\n",
    "    \n",
    "    '''\n",
    "    vertices[0]['depth_pt'] = b1\n",
    "    print(vertices[0])\n",
    "    '''\n",
    "    #  Get the depth vertex for each of the vertices on the list\n",
    "    \n",
    "    '''\n",
    "    for vertex in vertices:\n",
    "        if 'depth_pt' in vertex:\n",
    "            continue\n",
    "        \n",
    "        # parallel_intersection(p1,p2,b1,persp_pt)\n",
    "        vertex['depth_pt'] = parallel_intersection(vertices[vertices.index(vertex)-1]['vertex'], vertex['vertex'], vertices[vertices.index(vertex)-1]['depth_pt'], persp_pt)\n",
    "    '''\n",
    "    \n",
    "    depth_list = []\n",
    "    depth_list.append(b1)\n",
    "    \n",
    "    for i in range(len(vertex_list[1:])):\n",
    "        b = parallel_intersection(vertex_list[i], vertex_list[i+1], depth_list[i], persp_pt)\n",
    "        depth_list.append(b)\n",
    "    \n",
    "    #  Sort the vertices list by furthest vertex\n",
    "    \n",
    "    def myFunc(e):\n",
    "        return e['distance']\n",
    "    \n",
    "    vertices.sort(key = myFunc)\n",
    "    vertices.reverse()\n",
    "    \n",
    "    #  Draw polygons on each side starting with the furthest back\n",
    "    i = 0\n",
    "    \n",
    "    for vertex in vertices:\n",
    "        \n",
    "        if dist_betw_points(vertex['neighbors'][0], persp_pt) >= dist_betw_points(vertex['neighbors'][1], persp_pt):\n",
    "            # Draw neighbor 0 before neighbor 1\n",
    "            # ImageDraw.polygon(xy, fill=None, outline=None)\n",
    "            \n",
    "            index = vertex_list.index(vertex['vertex'])\n",
    "            drawable.polygon([vertex['vertex'], depth_list[index], depth_list[(index-1)%len(vertex_list)], vertex_list[(index-1)%len(vertex_list)]], fill = side_color, outline = edge_color)\n",
    "            drawable.polygon([vertex['vertex'], depth_list[index], depth_list[(index+1)%len(vertex_list)], vertex_list[(index+1)%len(vertex_list)]], fill = side_color, outline = edge_color)\n",
    "        else:\n",
    "            # Draw neighbor 1 before neighbor 0\n",
    "            \n",
    "            index = vertex_list.index(vertex['vertex'])\n",
    "            drawable.polygon([vertex['vertex'], depth_list[index], depth_list[(index+1)%len(vertex_list)], vertex_list[(index+1)%len(vertex_list)]], fill = side_color, outline = edge_color)\n",
    "            drawable.polygon([vertex['vertex'], depth_list[index], depth_list[(index-1)%len(vertex_list)], vertex_list[(index-1)%len(vertex_list)]], fill = side_color, outline = edge_color)\n",
    "            \n",
    "            \n",
    "    \n",
    "    #  Draw the surface polygon\n",
    "    if surface == True:\n",
    "        drawable.polygon(vertex_list, fill = surface_color, outline = edge_color)"
   ]
  },
  {
   "cell_type": "code",
   "execution_count": 11,
   "metadata": {},
   "outputs": [],
   "source": [
    "# The following takes a single point (p1), and a perspective point (persp_pt), along with a depth proportion constant (depth_prop)\n",
    "# It outputs a point that is a distance away from p1 equal to depth_prop * dist(p1, persp_pt) that is collinear with p1 and persp_pt\n",
    "\n",
    "def perspective_depth_set(p1, persp_pt, depth):\n",
    "    angle = angle_between(p1,persp_pt)\n",
    "    dist = depth\n",
    "    return line_segment_endpoint(p1, angle, dist, degrees = False)\n",
    "\n"
   ]
  },
  {
   "cell_type": "code",
   "execution_count": 12,
   "metadata": {},
   "outputs": [],
   "source": [
    "# perspective_gon redone\n",
    "\n",
    "def perspective_gon_setdepth(drawable, vertex_list, depth, persp_pt = (0,0), surface = True, edge_color = (255,255,255), surface_color = (0,0,0), side_color = (0,0,0)):\n",
    "    \n",
    "    #  Borrowing from the first we create a dictionary for each vertex that gives some of it's attributes: name (vertex), distance from perspective point (distance)\n",
    "    #  It also includes the points neighbors (neighbors), it should also include the vertex that approaches the perspective point\n",
    "    \n",
    "    vertices = []\n",
    "    \n",
    "    #  Create the dictionaries, with names, neighbors and distance from persp_pt\n",
    "    \n",
    "    for vertex in vertex_list:\n",
    "        vertex_dict = {}\n",
    "        vertex_dict['vertex'] = vertex  \n",
    "        (x1,y1) = vertex\n",
    "        (x2,y2) = persp_pt\n",
    "        distance = np.sqrt((x1-x2)**2 + (y1-y2)**2)\n",
    "        vertex_dict['distance'] = distance\n",
    "        vertex_dict['neighbors'] = [vertex_list[(vertex_list.index(vertex)-1) % len(vertex_list)], vertex_list[(vertex_list.index(vertex)+1) % len(vertex_list)]]\n",
    "        vertices.append(vertex_dict)\n",
    "    \n",
    "    #  Take the first listed vertex and use that to start finding the vertices that create depth\n",
    "    \n",
    "    # perspective_depth(p1, persp_pt, depth_prop)\n",
    "    b1 = perspective_depth_set(vertices[0]['vertex'], persp_pt, depth)\n",
    "    depth_list = []\n",
    "    depth_list.append(b1)\n",
    "    \n",
    "    for i in range(len(vertex_list[1:])):\n",
    "        b = parallel_intersection(vertex_list[i], vertex_list[i+1], depth_list[i], persp_pt)\n",
    "        depth_list.append(b)\n",
    "    \n",
    "    #  Sort the vertices list by furthest vertex\n",
    "    \n",
    "    def myFunc(e):\n",
    "        return e['distance']\n",
    "    \n",
    "    vertices.sort(key = myFunc)\n",
    "    vertices.reverse()\n",
    "    \n",
    "    #  Draw polygons on each side starting with the furthest back\n",
    "    i = 0\n",
    "    \n",
    "    for vertex in vertices:\n",
    "        \n",
    "        if dist_betw_points(vertex['neighbors'][0], persp_pt) >= dist_betw_points(vertex['neighbors'][1], persp_pt):\n",
    "            # Draw neighbor 0 before neighbor 1\n",
    "            # ImageDraw.polygon(xy, fill=None, outline=None)\n",
    "            \n",
    "            index = vertex_list.index(vertex['vertex'])\n",
    "            drawable.polygon([vertex['vertex'], depth_list[index], depth_list[(index-1)%len(vertex_list)], vertex_list[(index-1)%len(vertex_list)]], fill = side_color, outline = edge_color)\n",
    "            drawable.polygon([vertex['vertex'], depth_list[index], depth_list[(index+1)%len(vertex_list)], vertex_list[(index+1)%len(vertex_list)]], fill = side_color, outline = edge_color)\n",
    "        else:\n",
    "            # Draw neighbor 1 before neighbor 0\n",
    "            \n",
    "            index = vertex_list.index(vertex['vertex'])\n",
    "            drawable.polygon([vertex['vertex'], depth_list[index], depth_list[(index+1)%len(vertex_list)], vertex_list[(index+1)%len(vertex_list)]], fill = side_color, outline = edge_color)\n",
    "            drawable.polygon([vertex['vertex'], depth_list[index], depth_list[(index-1)%len(vertex_list)], vertex_list[(index-1)%len(vertex_list)]], fill = side_color, outline = edge_color)\n",
    "            \n",
    "            \n",
    "    \n",
    "    #  Draw the surface polygon\n",
    "    if surface == True:\n",
    "        drawable.polygon(vertex_list, fill = surface_color, outline = edge_color)"
   ]
  },
  {
   "cell_type": "code",
   "execution_count": 13,
   "metadata": {},
   "outputs": [
    {
     "data": {
      "image/png": "[encoded data removed]",
      "text/plain": [
       "<PIL.Image.Image image mode=RGB size=500x500 at 0x1C1857ACFD0>"
      ]
     },
     "execution_count": 13,
     "metadata": {},
     "output_type": "execute_result"
    }
   ],
   "source": [
    "image = Image.new('RGB', (500,500))\n",
    "draw = ImageDraw.Draw(image)\n",
    "vertex_list = [(50,50),(50,450),(250,450), (250,250), (450,450), (450,50), (250,50), (250,100)]\n",
    "depth_prop = (1/2)\n",
    "persp_pt = (500,20)\n",
    "surface = False\n",
    "edge_color = (200,250,200)\n",
    "surface_color = (70,30,20)\n",
    "side_color = (20,70,150)\n",
    "perspective_gon(draw, vertex_list, depth_prop, persp_pt, surface, edge_color, surface_color, side_color)\n",
    "image"
   ]
  },
  {
   "cell_type": "code",
   "execution_count": 14,
   "metadata": {},
   "outputs": [
    {
     "data": {
      "image/png": "[encoded data removed]",
      "text/plain": [
       "<PIL.Image.Image image mode=RGB size=500x500 at 0x1C1857ACFA0>"
      ]
     },
     "execution_count": 14,
     "metadata": {},
     "output_type": "execute_result"
    }
   ],
   "source": [
    "image = Image.new('RGB', (500,500))\n",
    "draw = ImageDraw.Draw(image)\n",
    "vertex_list = [(50,50),(50,450),(250,450), (250,250), (450,450), (450,50), (250,50), (250,100)]\n",
    "depth = 100\n",
    "persp_pt = (500,20)\n",
    "edge_color = (200,250,200)\n",
    "surface = False\n",
    "surface_color = (70,30,20)\n",
    "side_color = (20,70,150)\n",
    "perspective_gon_setdepth(draw, vertex_list, depth, persp_pt, surface, edge_color, surface_color, side_color)\n",
    "image"
   ]
  },
  {
   "cell_type": "code",
   "execution_count": 15,
   "metadata": {},
   "outputs": [
    {
     "name": "stdout",
     "output_type": "stream",
     "text": [
      "[(191, 191), (225.33333333333334, 191.0), (225.33333333333334, 259.6666666666667), (191, 259.6666666666667)]\n"
     ]
    },
    {
     "data": {
      "image/png": "[encoded data removed]",
      "text/plain": [
       "<PIL.Image.Image image mode=RGBA size=500x500 at 0x1C1846EA0D0>"
      ]
     },
     "execution_count": 15,
     "metadata": {},
     "output_type": "execute_result"
    }
   ],
   "source": [
    "image = Image.new('RGBA', (500,500))\n",
    "draw = ImageDraw.Draw(image)\n",
    "vertex_list = [(50,50), (100,50), (100,100), (50,100)]\n",
    "depth = 200\n",
    "persp_pt = (500,500)\n",
    "edge_color = (200,250,200)\n",
    "surface = False\n",
    "surface_color = (70,30,20)\n",
    "side_color = (20,70,150)\n",
    "perspective_gon_setdepth(draw, vertex_list, depth, persp_pt, surface, edge_color, surface_color, side_color)\n",
    "\n",
    "b1 = perspective_depth_set(vertex_list[0], persp_pt, depth)\n",
    "# parallel_intersection(p1,p2,b1,persp_pt)\n",
    "rect = []\n",
    "rect.append(b1)\n",
    "b2 = parallel_intersection(vertex_list[0],vertex_list[1], b1, persp_pt)\n",
    "rect.append(b2)\n",
    "\n",
    "dist = dist_betw_points(rect[0], rect[1])\n",
    "rect.append((rect[1][0], rect[1][1]+2*dist))\n",
    "rect.append((rect[0][0], rect[0][1]+2*dist))\n",
    "print(rect)\n",
    "perspective_gon_setdepth(draw, rect, dist, persp_pt, surface, edge_color, surface_color, side_color)\n",
    "\n",
    "image"
   ]
  },
  {
   "cell_type": "code",
   "execution_count": 22,
   "metadata": {},
   "outputs": [],
   "source": [
    "#\n",
    "def create_quad(pt_pair, depth, persp_pt):\n",
    "    depth_pts = []\n",
    "    for pt in pt_pair:\n",
    "        depth_pts.append(line_segment_endpoint(pt, angle_between(pt, persp_pt), depth))\n",
    "    quad_pts = [pt_pair[0], pt_pair[1], depth_pts[1], depth_pts[0]]\n",
    "    return quad_pts"
   ]
  },
  {
   "cell_type": "code",
   "execution_count": 24,
   "metadata": {},
   "outputs": [
    {
     "data": {
      "image/png": "[encoded data removed]",
      "text/plain": [
       "<PIL.Image.Image image mode=RGBA size=500x500 at 0x1C1857D3B20>"
      ]
     },
     "execution_count": 24,
     "metadata": {},
     "output_type": "execute_result"
    }
   ],
   "source": [
    "image = Image.new('RGBA', (500,500))\n",
    "draw = ImageDraw.Draw(image)\n",
    "vertex_list = [(50,50), (100,50), (100,100), (50,100)]\n",
    "persp_pt = (500,500)\n",
    "edge_color = (200,250,200)\n",
    "surface = False\n",
    "surface_color = (70,30,20)\n",
    "side_color = (20,70,150)\n",
    "quad_l = []\n",
    "for i in range(len(vertex_list)):\n",
    "    depth = (1/3)*dist_betw_points(vertex_list[i], persp_pt)\n",
    "    quad = create_quad((vertex_list[i%4],vertex_list[(i+1)%4]), depth, persp_pt)\n",
    "    quad_l.append(quad)\n",
    "persp_pt = (0,0)\n",
    "for quad in quad_l:\n",
    "    depth = (1/3)*dist_betw_points(vertex_list[i], persp_pt)\n",
    "    perspective_gon_setdepth(draw, quad, depth, persp_pt, surface, edge_color, surface_color, side_color)\n",
    "image"
   ]
  }
 ],
 "metadata": {
  "kernelspec": {
   "display_name": "Python 3",
   "language": "python",
   "name": "python3"
  },
  "language_info": {
   "codemirror_mode": {
    "name": "ipython",
    "version": 3
   },
   "file_extension": ".py",
   "mimetype": "text/x-python",
   "name": "python",
   "nbconvert_exporter": "python",
   "pygments_lexer": "ipython3",
   "version": "3.8.3"
  }
 },
 "nbformat": 4,
 "nbformat_minor": 4
}
