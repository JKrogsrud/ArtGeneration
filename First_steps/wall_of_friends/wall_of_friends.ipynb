{
 "cells": [
  {
   "cell_type": "code",
   "execution_count": 1,
   "metadata": {},
   "outputs": [],
   "source": [
    "import numpy as np\n",
    "import PIL\n",
    "import random\n",
    "from PIL import Image\n",
    "from PIL import ImageDraw"
   ]
  },
  {
   "cell_type": "code",
   "execution_count": 2,
   "metadata": {},
   "outputs": [],
   "source": [
    "def createPalette(number):\n",
    "    palette = []\n",
    "    number = int(number)\n",
    "    for i in range(number):\n",
    "        R = random.randint(0,255)\n",
    "        G = random.randint(0,255)\n",
    "        B = random.randint(0,255)\n",
    "        palette.append((R,G,B))\n",
    "    return(palette)"
   ]
  },
  {
   "cell_type": "code",
   "execution_count": 3,
   "metadata": {},
   "outputs": [],
   "source": [
    "def polar_sprite(size,colors):\n",
    "    size = int(size)\n",
    "    im = Image.new(\"RGB\", (size,size))\n",
    "    draw = PIL.ImageDraw.Draw(im,None)\n",
    "    colors = int(colors)\n",
    "    palette = createPalette(colors)\n",
    "    center = (size/2,size/2)\n",
    "    for i in range(int(size/2)):\n",
    "        num_to_color = random.randint(0,int(size/2))\n",
    "        D = np.sqrt(((center[0]-i)**2)+(center[1]**2))\n",
    "        radius_list = np.random.uniform(0, D, num_to_color)\n",
    "        theta = np.arctan(((size/2)-i)/(size/2))\n",
    "        for r in radius_list:\n",
    "            x_coord = int((size/2) - r*np.sin(theta))\n",
    "            y_coord = int((size/2) - r*np.cos(theta))\n",
    "            color = palette[random.randint(0,int(colors)-1)]\n",
    "            draw.point((x_coord,y_coord),color)\n",
    "            \n",
    "    for i in range(int(size/2)):\n",
    "        num_to_color = random.randint(0,int(size/2))\n",
    "        D = np.sqrt(((center[0]-i)**2)+(center[1]**2))\n",
    "        radius_list = np.random.uniform(0, D, num_to_color)\n",
    "        theta = np.arctan(((size/2)-i)/(size/2))\n",
    "        for r in radius_list:\n",
    "            x_coord = int((size/2) - r*np.cos(theta))\n",
    "            y_coord = int((size/2) - r*np.sin(theta))\n",
    "            color = palette[random.randint(0,int(colors)-1)]\n",
    "            draw.point((x_coord,y_coord),color)\n",
    "            \n",
    "    for i in range(int(size/2)):\n",
    "        num_to_color = random.randint(0,int(size/2))\n",
    "        D = np.sqrt(((center[0]-i)**2)+(center[1]**2))\n",
    "        radius_list = np.random.uniform(0, D, num_to_color)\n",
    "        theta = np.arctan(((size/2)-i)/(size/2))\n",
    "        for r in radius_list:\n",
    "            x_coord = int((size/2) - r*np.cos(theta))\n",
    "            y_coord = int((size/2) + r*np.sin(theta))\n",
    "            color = palette[random.randint(0,int(colors)-1)]\n",
    "            draw.point((x_coord,y_coord),color)\n",
    "            \n",
    "    for i in range(int(size/2)):\n",
    "        num_to_color = random.randint(0,int(size/2))\n",
    "        D = np.sqrt(((center[0]-i)**2)+(center[1]**2))\n",
    "        radius_list = np.random.uniform(0, D, num_to_color)\n",
    "        theta = np.arctan(((size/2)-i)/(size/2))\n",
    "        for r in radius_list:\n",
    "            x_coord = int((size/2) - r*np.sin(theta))\n",
    "            y_coord = int((size/2) + r*np.cos(theta))\n",
    "            color = palette[random.randint(0,int(colors)-1)]\n",
    "            draw.point((x_coord,y_coord),color)\n",
    "    \n",
    "    #Add some depth to the empty lines on the odd creatures\n",
    "    if size%2 == 1:\n",
    "        to_fill = int(size/3)\n",
    "        num_to_color = random.randint(0,to_fill)\n",
    "        x_values = np.random.uniform(0, int(size/3), num_to_color)\n",
    "        for x in x_values:\n",
    "            color = palette[random.randint(0,int(colors)-1)]\n",
    "            draw.point((x,int(size/2)),color)\n",
    "            \n",
    "    if size % 2 == 0:\n",
    "        crop = im.crop((0,0,int(size/2),size))\n",
    "        crop = crop.transpose(PIL.Image.FLIP_LEFT_RIGHT)\n",
    "        im.paste(crop, (int(size/2),0,size,size))\n",
    "    \n",
    "    if size % 2 == 1:\n",
    "        crop = im.crop((0,0,int(size/2),size))\n",
    "        crop = crop.transpose(PIL.Image.FLIP_LEFT_RIGHT)\n",
    "        im.paste(crop, (int(size/2)+1,0,size,size))\n",
    "        \n",
    "    #Fill a chance for the top and bottom quarter of the central verticle to be filled\n",
    "    #Top half\n",
    "    if size % 2 == 1:\n",
    "        to_fill = int(size/3)\n",
    "        num_to_color = random.randint(0,to_fill)\n",
    "        y_values = np.random.uniform(0, int(size/3), num_to_color)\n",
    "        for y in y_values:\n",
    "            color = palette[random.randint(0,int(colors)-1)]\n",
    "            draw.point((int(size/2), y) ,color)\n",
    "    #Bottom half\n",
    "    if size % 2 == 1:\n",
    "        to_fill = int(size/3)\n",
    "        num_to_color = random.randint(0,to_fill)\n",
    "        y_values = np.random.uniform(0, int(size/3), num_to_color)\n",
    "        for y in y_values:\n",
    "            color = palette[random.randint(0,int(colors)-1)]\n",
    "            draw.point((int(size/2), size-y) ,color)\n",
    "            \n",
    "    return im"
   ]
  },
  {
   "cell_type": "code",
   "execution_count": 4,
   "metadata": {},
   "outputs": [],
   "source": [
    "s_1 = polar_sprite(7, 4)\n",
    "s_2 = polar_sprite(7, 4)"
   ]
  },
  {
   "cell_type": "code",
   "execution_count": 5,
   "metadata": {},
   "outputs": [],
   "source": [
    "im = Image.new(\"RGB\", (14,7))\n",
    "im.paste(s_1, (0,0,7,7))\n",
    "im.paste(s_2, ((7,0,14,7)))"
   ]
  },
  {
   "cell_type": "code",
   "execution_count": 6,
   "metadata": {},
   "outputs": [],
   "source": [
    "def wall_of_friends(size, colors, x_friends, y_friends):\n",
    "    size = int(size)\n",
    "    colors = int(colors)\n",
    "    x_friends = int(x_friends)\n",
    "    y_friends = int(y_friends)\n",
    "    im = Image.new(\"RGB\", (x_friends*(size+3)+3, y_friends*(size+3)+3))\n",
    "    for x in range(x_friends):\n",
    "        for y in range(y_friends):\n",
    "            friend = polar_sprite(size, colors)\n",
    "            im.paste(friend,(3*(x+1)+(x*size), 3*(y+1)+(y*size), 3*(x+1)+((x+1)*size), 3*(y+1)+((y+1)*size)))\n",
    "    return im"
   ]
  },
  {
   "cell_type": "code",
   "execution_count": 102,
   "metadata": {},
   "outputs": [],
   "source": [
    "wall = wall_of_friends(9,4,1,1)\n",
    "wall = wall.resize((500,500),PIL.Image.NEAREST)\n",
    "wall.save(\"Picture_91.png\")"
   ]
  },
  {
   "cell_type": "code",
   "execution_count": 107,
   "metadata": {},
   "outputs": [
    {
     "name": "stdout",
     "output_type": "stream",
     "text": [
      "Picture 6 Picture 4\n",
      "Picture 5 Picture 0\n",
      "Picture 4 Picture 3\n",
      "Picture 1 Picture 6\n",
      "Picture 2 Picture 2\n",
      "Picture 0 Picture 1\n",
      "Picture 3 Picture 5\n"
     ]
    }
   ],
   "source": [
    "num_players = 7\n",
    "player_list = []\n",
    "good_match = False\n",
    "for i in range(num_players):\n",
    "    player_list.append(\"Picture \" + str(i))\n",
    "while good_match == False:\n",
    "    for player in player_list:\n",
    "        copy = player_list.copy()\n",
    "        random.shuffle(player_list)\n",
    "        for i in player_list:\n",
    "            if player_list.index(i) == copy.index(i):\n",
    "                good_match = False\n",
    "            else:\n",
    "                good_match = True\n",
    "    if good_match == True:\n",
    "        for i in range(len(player_list)):\n",
    "            print(player_list[i], copy[i])"
   ]
  },
  {
   "cell_type": "code",
   "execution_count": null,
   "metadata": {},
   "outputs": [],
   "source": []
  }
 ],
 "metadata": {
  "kernelspec": {
   "display_name": "Python 3",
   "language": "python",
   "name": "python3"
  },
  "language_info": {
   "codemirror_mode": {
    "name": "ipython",
    "version": 3
   },
   "file_extension": ".py",
   "mimetype": "text/x-python",
   "name": "python",
   "nbconvert_exporter": "python",
   "pygments_lexer": "ipython3",
   "version": "3.8.3"
  }
 },
 "nbformat": 4,
 "nbformat_minor": 4
}
