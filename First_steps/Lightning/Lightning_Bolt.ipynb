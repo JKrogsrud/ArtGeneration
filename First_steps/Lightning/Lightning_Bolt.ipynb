{
 "cells": [
  {
   "cell_type": "code",
   "execution_count": 1,
   "metadata": {},
   "outputs": [],
   "source": [
    "import numpy as np\n",
    "import PIL\n",
    "import random\n",
    "from PIL import Image\n",
    "from PIL import ImageDraw\n",
    "import pandas as pd"
   ]
  },
  {
   "cell_type": "code",
   "execution_count": 150,
   "metadata": {},
   "outputs": [],
   "source": [
    "def lightning_split(start_pt, size, line_width):\n",
    "    line_width = int(line_width)\n",
    "    im = Image.new(\"RGB\", size)\n",
    "    draw = ImageDraw.Draw(im)\n",
    "    split_prob = [1,1,1,2]\n",
    "    num_bolts = random.choice(split_prob)\n",
    "    end_points = []\n",
    "    for i in range(num_bolts):\n",
    "        x_coord = random.randint(0, int(size[0])-1)\n",
    "        coord = (x_coord, int(size[1])-1)\n",
    "        end_points.append(coord)\n",
    "        draw.line([start_pt, coord], fill=color, width = line_width, joint=None)\n",
    "    return im, end_points"
   ]
  },
  {
   "cell_type": "code",
   "execution_count": 212,
   "metadata": {},
   "outputs": [
    {
     "data": {
      "image/png": "[encoded data removed]",
      "text/plain": [
       "<PIL.Image.Image image mode=RGB size=300x150 at 0x292E3B98340>"
      ]
     },
     "execution_count": 212,
     "metadata": {},
     "output_type": "execute_result"
    }
   ],
   "source": [
    "split = lightning_split((150,0),(300,150), 2)\n",
    "split[0]"
   ]
  },
  {
   "cell_type": "code",
   "execution_count": 276,
   "metadata": {},
   "outputs": [
    {
     "data": {
      "image/png": "[encoded data removed]",
      "text/plain": [
       "<PIL.Image.Image image mode=RGB size=300x300 at 0x292E3B98280>"
      ]
     },
     "execution_count": 276,
     "metadata": {},
     "output_type": "execute_result"
    }
   ],
   "source": [
    "size = (300,300)\n",
    "width = 2\n",
    "new_image = Image.new(\"RGB\", size)\n",
    "split = lightning_split((150,0),size, width)\n",
    "split[0]\n",
    "lightning = split[0].resize((size[0],int(size[1]/2)),PIL.Image.NEAREST)\n",
    "new_image.paste(lightning, (0,0))\n",
    "# split[1] is a list of coordinates either of length \n",
    "for i in split[1]:\n",
    "    new_start = (i[0], int(size[1]/2))\n",
    "    new_light = lightning_split(new_start, width)"
   ]
  }
 ],
 "metadata": {
  "kernelspec": {
   "display_name": "Python 3",
   "language": "python",
   "name": "python3"
  },
  "language_info": {
   "codemirror_mode": {
    "name": "ipython",
    "version": 3
   },
   "file_extension": ".py",
   "mimetype": "text/x-python",
   "name": "python",
   "nbconvert_exporter": "python",
   "pygments_lexer": "ipython3",
   "version": "3.8.3"
  }
 },
 "nbformat": 4,
 "nbformat_minor": 4
}
